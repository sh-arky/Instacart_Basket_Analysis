{
 "cells": [
  {
   "cell_type": "code",
   "execution_count": 1,
   "id": "ffe26071-8657-4509-bcf6-c2c82d42e228",
   "metadata": {},
   "outputs": [],
   "source": [
    "import pandas as pd\n",
    "import numpy as np\n",
    "import os "
   ]
  },
  {
   "cell_type": "code",
   "execution_count": 2,
   "id": "540c7fdd-fcad-4ca3-a769-0a93ea7dcc4a",
   "metadata": {},
   "outputs": [],
   "source": [
    "path = r\"C:\\Users\\Noah\\4.3.24_INSTACART BASKET ANALYSIS\""
   ]
  },
  {
   "cell_type": "code",
   "execution_count": 3,
   "id": "0339e15b-cbba-46f1-af57-21c8a95375b9",
   "metadata": {},
   "outputs": [],
   "source": [
    "df_customers = pd.read_csv(os.path.join (path, '02 Data' , 'Original Data' , 'customers','customers.csv' ), index_col = False)"
   ]
  },
  {
   "cell_type": "markdown",
   "id": "c9e052f6-5e53-4120-ae57-069fce19dd97",
   "metadata": {},
   "source": [
    "# consistency checks\n"
   ]
  },
  {
   "cell_type": "code",
   "execution_count": 4,
   "id": "85149bb7-ab9d-4088-8ccb-c6daa7b4ead2",
   "metadata": {},
   "outputs": [
    {
     "name": "stdout",
     "output_type": "stream",
     "text": [
      "First Name\n"
     ]
    }
   ],
   "source": [
    "\n",
    "for col in df_customers.columns.tolist():\n",
    "  weird = (df_customers[[col]].map(type) != df_customers[[col]].iloc[0].apply(type)).any(axis = 1)\n",
    "  if len (df_customers[weird]) > 0:\n",
    "    print (col)"
   ]
  },
  {
   "cell_type": "code",
   "execution_count": 5,
   "id": "d0ee6836-ff0e-4428-8d5f-2549ef4584d2",
   "metadata": {},
   "outputs": [
    {
     "data": {
      "text/plain": [
       "(206209, 10)"
      ]
     },
     "execution_count": 5,
     "metadata": {},
     "output_type": "execute_result"
    }
   ],
   "source": [
    "df_customers.shape"
   ]
  },
  {
   "cell_type": "code",
   "execution_count": 6,
   "id": "a9ed68e0-72a5-49e6-9f41-9d3781e93564",
   "metadata": {},
   "outputs": [
    {
     "data": {
      "text/plain": [
       "user_id             0\n",
       "First Name      11259\n",
       "Surnam              0\n",
       "Gender              0\n",
       "STATE               0\n",
       "Age                 0\n",
       "date_joined         0\n",
       "n_dependants        0\n",
       "fam_status          0\n",
       "income              0\n",
       "dtype: int64"
      ]
     },
     "execution_count": 6,
     "metadata": {},
     "output_type": "execute_result"
    }
   ],
   "source": [
    "df_customers.isnull().sum()"
   ]
  },
  {
   "cell_type": "markdown",
   "id": "ab81bf52-89c3-4737-a413-2841f7825a29",
   "metadata": {},
   "source": [
    "# 11259 first names missing...\n"
   ]
  },
  {
   "cell_type": "code",
   "execution_count": 9,
   "id": "26f0e776-d147-46e9-8857-c52ea488348f",
   "metadata": {},
   "outputs": [
    {
     "name": "stdout",
     "output_type": "stream",
     "text": [
      "206209\n"
     ]
    }
   ],
   "source": [
    "df_customers_rowcnt = len(df_customers)\n",
    "print(df_customers_rowcnt)"
   ]
  },
  {
   "cell_type": "code",
   "execution_count": 10,
   "id": "1b9baa5b-cb51-4d7d-b1bf-1b6526d93466",
   "metadata": {},
   "outputs": [
    {
     "data": {
      "text/plain": [
       "0.054599944716282996"
      ]
     },
     "execution_count": 10,
     "metadata": {},
     "output_type": "execute_result"
    }
   ],
   "source": [
    "11259/206209"
   ]
  },
  {
   "cell_type": "markdown",
   "id": "1f38181a-6ff2-43fd-8519-46113b154ded",
   "metadata": {},
   "source": [
    "# missing values represents more than 5% of data, cannot fully exclude\n"
   ]
  },
  {
   "cell_type": "markdown",
   "id": "b7bbf4b6-99d7-41e6-83e4-4803c1137408",
   "metadata": {},
   "source": [
    "# no changes, since we do not want to drop a significant portion of the data."
   ]
  },
  {
   "cell_type": "markdown",
   "id": "68d88e59-3b4a-4f41-a348-cca0e6084ddb",
   "metadata": {
    "jp-MarkdownHeadingCollapsed": true
   },
   "source": [
    "# for future exercises we will use only \"user_id\" column for statistical analysis , ignoring names due to missing values and PII concerns. "
   ]
  },
  {
   "cell_type": "code",
   "execution_count": null,
   "id": "8ac3dec2-d261-4353-8cca-9958a4b63e86",
   "metadata": {},
   "outputs": [],
   "source": []
  }
 ],
 "metadata": {
  "kernelspec": {
   "display_name": "Python 3 (ipykernel)",
   "language": "python",
   "name": "python3"
  },
  "language_info": {
   "codemirror_mode": {
    "name": "ipython",
    "version": 3
   },
   "file_extension": ".py",
   "mimetype": "text/x-python",
   "name": "python",
   "nbconvert_exporter": "python",
   "pygments_lexer": "ipython3",
   "version": "3.11.7"
  }
 },
 "nbformat": 4,
 "nbformat_minor": 5
}
