{
 "cells": [
  {
   "cell_type": "markdown",
   "id": "b09354c6-6d1a-45a8-aa7a-22063faa6dd4",
   "metadata": {},
   "source": [
    "# tab 7 of final project\n",
    "# additional Vizzes for key Questions\n"
   ]
  },
  {
   "cell_type": "code",
   "execution_count": 1,
   "id": "92b84ab5-2840-4405-977e-4f9958f65115",
   "metadata": {},
   "outputs": [],
   "source": [
    "# importing libraries\n",
    "import pandas as pd\n",
    "import numpy as np\n",
    "import os\n",
    "import matplotlib.pyplot as plt\n",
    "import seaborn as sns\n",
    "import scipy"
   ]
  },
  {
   "cell_type": "code",
   "execution_count": 2,
   "id": "f5dfb93f-58ee-4716-b02c-7ea3ed5c0e3e",
   "metadata": {},
   "outputs": [],
   "source": [
    "path = r\"C:\\Users\\Noah\\4.3.24_INSTACART BASKET ANALYSIS\""
   ]
  },
  {
   "cell_type": "code",
   "execution_count": 4,
   "id": "ef13e9d7-67f5-42d6-a753-4a45ddc174d9",
   "metadata": {},
   "outputs": [],
   "source": [
    "ords_prods_merge = pd.read_pickle(os.path.join(path, '02 Data' , 'Prepared Data', '..IC 4.10', '4.10_instacart.pkl'))"
   ]
  },
  {
   "cell_type": "code",
   "execution_count": 5,
   "id": "9c08151d-b694-4d1e-ba05-aa9fc10bf711",
   "metadata": {},
   "outputs": [
    {
     "data": {
      "text/html": [
       "<div>\n",
       "<style scoped>\n",
       "    .dataframe tbody tr th:only-of-type {\n",
       "        vertical-align: middle;\n",
       "    }\n",
       "\n",
       "    .dataframe tbody tr th {\n",
       "        vertical-align: top;\n",
       "    }\n",
       "\n",
       "    .dataframe thead th {\n",
       "        text-align: right;\n",
       "    }\n",
       "</style>\n",
       "<table border=\"1\" class=\"dataframe\">\n",
       "  <thead>\n",
       "    <tr style=\"text-align: right;\">\n",
       "      <th></th>\n",
       "      <th>user_id</th>\n",
       "      <th>First Name</th>\n",
       "      <th>Surname</th>\n",
       "      <th>Gender</th>\n",
       "      <th>State</th>\n",
       "      <th>Age</th>\n",
       "      <th>date_joined</th>\n",
       "      <th>Dependents</th>\n",
       "      <th>fam_status</th>\n",
       "      <th>income</th>\n",
       "      <th>...</th>\n",
       "      <th>price_range_loc</th>\n",
       "      <th>busiest_day</th>\n",
       "      <th>busiest_period_of_day</th>\n",
       "      <th>max_order</th>\n",
       "      <th>loyalty_flag</th>\n",
       "      <th>spending_level</th>\n",
       "      <th>loyalty_flag_spending</th>\n",
       "      <th>median_days_since_prior</th>\n",
       "      <th>loyalty_flag_freq</th>\n",
       "      <th>department_name</th>\n",
       "    </tr>\n",
       "  </thead>\n",
       "  <tbody>\n",
       "    <tr>\n",
       "      <th>0</th>\n",
       "      <td>26711</td>\n",
       "      <td>Deborah</td>\n",
       "      <td>Esquivel</td>\n",
       "      <td>Female</td>\n",
       "      <td>Missouri</td>\n",
       "      <td>48</td>\n",
       "      <td>1/1/2017</td>\n",
       "      <td>3</td>\n",
       "      <td>married</td>\n",
       "      <td>165665</td>\n",
       "      <td>...</td>\n",
       "      <td>Mid-range product</td>\n",
       "      <td>Busiest day</td>\n",
       "      <td>Average Orders</td>\n",
       "      <td>8</td>\n",
       "      <td>New customer</td>\n",
       "      <td>7.988889</td>\n",
       "      <td>Low_spender</td>\n",
       "      <td>19.0</td>\n",
       "      <td>Regular_customer</td>\n",
       "      <td>beverages</td>\n",
       "    </tr>\n",
       "    <tr>\n",
       "      <th>1</th>\n",
       "      <td>26711</td>\n",
       "      <td>Deborah</td>\n",
       "      <td>Esquivel</td>\n",
       "      <td>Female</td>\n",
       "      <td>Missouri</td>\n",
       "      <td>48</td>\n",
       "      <td>1/1/2017</td>\n",
       "      <td>3</td>\n",
       "      <td>married</td>\n",
       "      <td>165665</td>\n",
       "      <td>...</td>\n",
       "      <td>Mid-range product</td>\n",
       "      <td>Regularly busy</td>\n",
       "      <td>Most Orders</td>\n",
       "      <td>8</td>\n",
       "      <td>New customer</td>\n",
       "      <td>7.988889</td>\n",
       "      <td>Low_spender</td>\n",
       "      <td>19.0</td>\n",
       "      <td>Regular_customer</td>\n",
       "      <td>beverages</td>\n",
       "    </tr>\n",
       "    <tr>\n",
       "      <th>2</th>\n",
       "      <td>26711</td>\n",
       "      <td>Deborah</td>\n",
       "      <td>Esquivel</td>\n",
       "      <td>Female</td>\n",
       "      <td>Missouri</td>\n",
       "      <td>48</td>\n",
       "      <td>1/1/2017</td>\n",
       "      <td>3</td>\n",
       "      <td>married</td>\n",
       "      <td>165665</td>\n",
       "      <td>...</td>\n",
       "      <td>Mid-range product</td>\n",
       "      <td>Busiest day</td>\n",
       "      <td>Most Orders</td>\n",
       "      <td>8</td>\n",
       "      <td>New customer</td>\n",
       "      <td>7.988889</td>\n",
       "      <td>Low_spender</td>\n",
       "      <td>19.0</td>\n",
       "      <td>Regular_customer</td>\n",
       "      <td>beverages</td>\n",
       "    </tr>\n",
       "    <tr>\n",
       "      <th>3</th>\n",
       "      <td>26711</td>\n",
       "      <td>Deborah</td>\n",
       "      <td>Esquivel</td>\n",
       "      <td>Female</td>\n",
       "      <td>Missouri</td>\n",
       "      <td>48</td>\n",
       "      <td>1/1/2017</td>\n",
       "      <td>3</td>\n",
       "      <td>married</td>\n",
       "      <td>165665</td>\n",
       "      <td>...</td>\n",
       "      <td>Low-range product</td>\n",
       "      <td>Regularly busy</td>\n",
       "      <td>Average Orders</td>\n",
       "      <td>8</td>\n",
       "      <td>New customer</td>\n",
       "      <td>7.988889</td>\n",
       "      <td>Low_spender</td>\n",
       "      <td>19.0</td>\n",
       "      <td>Regular_customer</td>\n",
       "      <td>produce</td>\n",
       "    </tr>\n",
       "    <tr>\n",
       "      <th>4</th>\n",
       "      <td>26711</td>\n",
       "      <td>Deborah</td>\n",
       "      <td>Esquivel</td>\n",
       "      <td>Female</td>\n",
       "      <td>Missouri</td>\n",
       "      <td>48</td>\n",
       "      <td>1/1/2017</td>\n",
       "      <td>3</td>\n",
       "      <td>married</td>\n",
       "      <td>165665</td>\n",
       "      <td>...</td>\n",
       "      <td>Low-range product</td>\n",
       "      <td>Least busy</td>\n",
       "      <td>Most Orders</td>\n",
       "      <td>8</td>\n",
       "      <td>New customer</td>\n",
       "      <td>7.988889</td>\n",
       "      <td>Low_spender</td>\n",
       "      <td>19.0</td>\n",
       "      <td>Regular_customer</td>\n",
       "      <td>produce</td>\n",
       "    </tr>\n",
       "    <tr>\n",
       "      <th>...</th>\n",
       "      <td>...</td>\n",
       "      <td>...</td>\n",
       "      <td>...</td>\n",
       "      <td>...</td>\n",
       "      <td>...</td>\n",
       "      <td>...</td>\n",
       "      <td>...</td>\n",
       "      <td>...</td>\n",
       "      <td>...</td>\n",
       "      <td>...</td>\n",
       "      <td>...</td>\n",
       "      <td>...</td>\n",
       "      <td>...</td>\n",
       "      <td>...</td>\n",
       "      <td>...</td>\n",
       "      <td>...</td>\n",
       "      <td>...</td>\n",
       "      <td>...</td>\n",
       "      <td>...</td>\n",
       "      <td>...</td>\n",
       "      <td>...</td>\n",
       "    </tr>\n",
       "    <tr>\n",
       "      <th>95</th>\n",
       "      <td>65803</td>\n",
       "      <td>Kenneth</td>\n",
       "      <td>Farley</td>\n",
       "      <td>Male</td>\n",
       "      <td>Idaho</td>\n",
       "      <td>35</td>\n",
       "      <td>1/1/2017</td>\n",
       "      <td>2</td>\n",
       "      <td>married</td>\n",
       "      <td>99568</td>\n",
       "      <td>...</td>\n",
       "      <td>Low-range product</td>\n",
       "      <td>Regularly busy</td>\n",
       "      <td>Most Orders</td>\n",
       "      <td>9</td>\n",
       "      <td>New customer</td>\n",
       "      <td>8.375962</td>\n",
       "      <td>Low_spender</td>\n",
       "      <td>7.0</td>\n",
       "      <td>Frequent_customer</td>\n",
       "      <td>dairy eggs</td>\n",
       "    </tr>\n",
       "    <tr>\n",
       "      <th>96</th>\n",
       "      <td>65803</td>\n",
       "      <td>Kenneth</td>\n",
       "      <td>Farley</td>\n",
       "      <td>Male</td>\n",
       "      <td>Idaho</td>\n",
       "      <td>35</td>\n",
       "      <td>1/1/2017</td>\n",
       "      <td>2</td>\n",
       "      <td>married</td>\n",
       "      <td>99568</td>\n",
       "      <td>...</td>\n",
       "      <td>Low-range product</td>\n",
       "      <td>Least busy</td>\n",
       "      <td>Average Orders</td>\n",
       "      <td>9</td>\n",
       "      <td>New customer</td>\n",
       "      <td>8.375962</td>\n",
       "      <td>Low_spender</td>\n",
       "      <td>7.0</td>\n",
       "      <td>Frequent_customer</td>\n",
       "      <td>dairy eggs</td>\n",
       "    </tr>\n",
       "    <tr>\n",
       "      <th>97</th>\n",
       "      <td>65803</td>\n",
       "      <td>Kenneth</td>\n",
       "      <td>Farley</td>\n",
       "      <td>Male</td>\n",
       "      <td>Idaho</td>\n",
       "      <td>35</td>\n",
       "      <td>1/1/2017</td>\n",
       "      <td>2</td>\n",
       "      <td>married</td>\n",
       "      <td>99568</td>\n",
       "      <td>...</td>\n",
       "      <td>Mid-range product</td>\n",
       "      <td>Regularly busy</td>\n",
       "      <td>Most Orders</td>\n",
       "      <td>9</td>\n",
       "      <td>New customer</td>\n",
       "      <td>8.375962</td>\n",
       "      <td>Low_spender</td>\n",
       "      <td>7.0</td>\n",
       "      <td>Frequent_customer</td>\n",
       "      <td>dry goods pasta</td>\n",
       "    </tr>\n",
       "    <tr>\n",
       "      <th>98</th>\n",
       "      <td>65803</td>\n",
       "      <td>Kenneth</td>\n",
       "      <td>Farley</td>\n",
       "      <td>Male</td>\n",
       "      <td>Idaho</td>\n",
       "      <td>35</td>\n",
       "      <td>1/1/2017</td>\n",
       "      <td>2</td>\n",
       "      <td>married</td>\n",
       "      <td>99568</td>\n",
       "      <td>...</td>\n",
       "      <td>Mid-range product</td>\n",
       "      <td>Busiest day</td>\n",
       "      <td>Most Orders</td>\n",
       "      <td>9</td>\n",
       "      <td>New customer</td>\n",
       "      <td>8.375962</td>\n",
       "      <td>Low_spender</td>\n",
       "      <td>7.0</td>\n",
       "      <td>Frequent_customer</td>\n",
       "      <td>frozen</td>\n",
       "    </tr>\n",
       "    <tr>\n",
       "      <th>99</th>\n",
       "      <td>65803</td>\n",
       "      <td>Kenneth</td>\n",
       "      <td>Farley</td>\n",
       "      <td>Male</td>\n",
       "      <td>Idaho</td>\n",
       "      <td>35</td>\n",
       "      <td>1/1/2017</td>\n",
       "      <td>2</td>\n",
       "      <td>married</td>\n",
       "      <td>99568</td>\n",
       "      <td>...</td>\n",
       "      <td>Low-range product</td>\n",
       "      <td>Regularly busy</td>\n",
       "      <td>Most Orders</td>\n",
       "      <td>9</td>\n",
       "      <td>New customer</td>\n",
       "      <td>8.375962</td>\n",
       "      <td>Low_spender</td>\n",
       "      <td>7.0</td>\n",
       "      <td>Frequent_customer</td>\n",
       "      <td>dairy eggs</td>\n",
       "    </tr>\n",
       "  </tbody>\n",
       "</table>\n",
       "<p>100 rows × 34 columns</p>\n",
       "</div>"
      ],
      "text/plain": [
       "    user_id First Name   Surname  Gender     State  Age date_joined  \\\n",
       "0     26711    Deborah  Esquivel  Female  Missouri   48    1/1/2017   \n",
       "1     26711    Deborah  Esquivel  Female  Missouri   48    1/1/2017   \n",
       "2     26711    Deborah  Esquivel  Female  Missouri   48    1/1/2017   \n",
       "3     26711    Deborah  Esquivel  Female  Missouri   48    1/1/2017   \n",
       "4     26711    Deborah  Esquivel  Female  Missouri   48    1/1/2017   \n",
       "..      ...        ...       ...     ...       ...  ...         ...   \n",
       "95    65803    Kenneth    Farley    Male     Idaho   35    1/1/2017   \n",
       "96    65803    Kenneth    Farley    Male     Idaho   35    1/1/2017   \n",
       "97    65803    Kenneth    Farley    Male     Idaho   35    1/1/2017   \n",
       "98    65803    Kenneth    Farley    Male     Idaho   35    1/1/2017   \n",
       "99    65803    Kenneth    Farley    Male     Idaho   35    1/1/2017   \n",
       "\n",
       "    Dependents fam_status  income  ...    price_range_loc     busiest_day  \\\n",
       "0            3    married  165665  ...  Mid-range product     Busiest day   \n",
       "1            3    married  165665  ...  Mid-range product  Regularly busy   \n",
       "2            3    married  165665  ...  Mid-range product     Busiest day   \n",
       "3            3    married  165665  ...  Low-range product  Regularly busy   \n",
       "4            3    married  165665  ...  Low-range product      Least busy   \n",
       "..         ...        ...     ...  ...                ...             ...   \n",
       "95           2    married   99568  ...  Low-range product  Regularly busy   \n",
       "96           2    married   99568  ...  Low-range product      Least busy   \n",
       "97           2    married   99568  ...  Mid-range product  Regularly busy   \n",
       "98           2    married   99568  ...  Mid-range product     Busiest day   \n",
       "99           2    married   99568  ...  Low-range product  Regularly busy   \n",
       "\n",
       "    busiest_period_of_day  max_order  loyalty_flag  spending_level  \\\n",
       "0          Average Orders          8  New customer        7.988889   \n",
       "1             Most Orders          8  New customer        7.988889   \n",
       "2             Most Orders          8  New customer        7.988889   \n",
       "3          Average Orders          8  New customer        7.988889   \n",
       "4             Most Orders          8  New customer        7.988889   \n",
       "..                    ...        ...           ...             ...   \n",
       "95            Most Orders          9  New customer        8.375962   \n",
       "96         Average Orders          9  New customer        8.375962   \n",
       "97            Most Orders          9  New customer        8.375962   \n",
       "98            Most Orders          9  New customer        8.375962   \n",
       "99            Most Orders          9  New customer        8.375962   \n",
       "\n",
       "   loyalty_flag_spending  median_days_since_prior  loyalty_flag_freq  \\\n",
       "0            Low_spender                     19.0   Regular_customer   \n",
       "1            Low_spender                     19.0   Regular_customer   \n",
       "2            Low_spender                     19.0   Regular_customer   \n",
       "3            Low_spender                     19.0   Regular_customer   \n",
       "4            Low_spender                     19.0   Regular_customer   \n",
       "..                   ...                      ...                ...   \n",
       "95           Low_spender                      7.0  Frequent_customer   \n",
       "96           Low_spender                      7.0  Frequent_customer   \n",
       "97           Low_spender                      7.0  Frequent_customer   \n",
       "98           Low_spender                      7.0  Frequent_customer   \n",
       "99           Low_spender                      7.0  Frequent_customer   \n",
       "\n",
       "    department_name  \n",
       "0         beverages  \n",
       "1         beverages  \n",
       "2         beverages  \n",
       "3           produce  \n",
       "4           produce  \n",
       "..              ...  \n",
       "95       dairy eggs  \n",
       "96       dairy eggs  \n",
       "97  dry goods pasta  \n",
       "98           frozen  \n",
       "99       dairy eggs  \n",
       "\n",
       "[100 rows x 34 columns]"
      ]
     },
     "execution_count": 5,
     "metadata": {},
     "output_type": "execute_result"
    }
   ],
   "source": [
    "ords_prods_merge.head(100)"
   ]
  },
  {
   "cell_type": "code",
   "execution_count": 6,
   "id": "1ce40606-47c4-4f27-b99f-56f8943ccce3",
   "metadata": {},
   "outputs": [
    {
     "name": "stdout",
     "output_type": "stream",
     "text": [
      "Index(['user_id', 'First Name', 'Surname', 'Gender', 'State', 'Age',\n",
      "       'date_joined', 'Dependents', 'fam_status', 'income', 'product_id',\n",
      "       'product_name', 'aisle_id', 'department_id', 'prices', 'order_id',\n",
      "       'eval_set', 'order_number', 'orders_day_of_the_week',\n",
      "       'order_hour_of_day', 'days_since_prior_order', 'add_to_cart_order',\n",
      "       'reordered', '_merge', 'price_range_loc', 'busiest_day',\n",
      "       'busiest_period_of_day', 'max_order', 'loyalty_flag', 'spending_level',\n",
      "       'loyalty_flag_spending', 'median_days_since_prior', 'loyalty_flag_freq',\n",
      "       'department_name'],\n",
      "      dtype='object')\n"
     ]
    }
   ],
   "source": [
    "print(ords_prods_merge.columns)"
   ]
  },
  {
   "cell_type": "code",
   "execution_count": 7,
   "id": "d8570601-bf76-4a97-b05c-4e1588070af4",
   "metadata": {},
   "outputs": [],
   "source": [
    "# dropping non-relevant column\n",
    "ords_prods_merge.drop(columns=['date_joined',],inplace=True)\n"
   ]
  },
  {
   "cell_type": "code",
   "execution_count": 8,
   "id": "bfe54c8d-b319-4b72-9e4e-76beb7d66fe2",
   "metadata": {},
   "outputs": [
    {
     "name": "stdout",
     "output_type": "stream",
     "text": [
      "0    2543867\n",
      "1    1285508\n",
      "2    2578584\n",
      "3     518967\n",
      "4    2524893\n",
      "Name: order_id, dtype: int64 0    5\n",
      "1    7\n",
      "2    8\n",
      "3    1\n",
      "4    3\n",
      "Name: order_number, dtype: int64\n"
     ]
    }
   ],
   "source": [
    "print(ords_prods_merge['order_id'].head(),ords_prods_merge['order_number'].head())"
   ]
  },
  {
   "cell_type": "code",
   "execution_count": 9,
   "id": "cc7afc84-022e-40ab-ba07-fd78edd55a2c",
   "metadata": {},
   "outputs": [],
   "source": [
    "# creating sample size since data set is too big for CPU\n",
    "np.random.seed(4)\n",
    "dev = np.random.rand(len(ords_prods_merge)) <= 0.7"
   ]
  },
  {
   "cell_type": "code",
   "execution_count": 10,
   "id": "78699734-6a8b-4692-bde7-3c99661b4acf",
   "metadata": {},
   "outputs": [],
   "source": [
    "big = ords_prods_merge[dev]"
   ]
  },
  {
   "cell_type": "code",
   "execution_count": 11,
   "id": "85f1af75-9e6b-41d5-ad50-b58ae11384d9",
   "metadata": {},
   "outputs": [],
   "source": [
    "small = ords_prods_merge[~dev]"
   ]
  },
  {
   "cell_type": "markdown",
   "id": "7bdd4f96-6673-4a0d-88ee-c3d30b438459",
   "metadata": {},
   "source": [
    "## creating chart to compare spend level of different customer loyalties"
   ]
  },
  {
   "cell_type": "code",
   "execution_count": 12,
   "id": "140d7247-a704-4f75-898a-96a9683b94fe",
   "metadata": {},
   "outputs": [],
   "source": [
    "#new df for sum of order\n",
    "df_orderid_sum = ords_prods_merge.groupby('order_id').agg({'prices':['sum']}).reset_index()"
   ]
  },
  {
   "cell_type": "code",
   "execution_count": 13,
   "id": "94877d2c-9e46-4fe2-b5ba-12d6ddaea6ae",
   "metadata": {},
   "outputs": [
    {
     "data": {
      "text/html": [
       "<div>\n",
       "<style scoped>\n",
       "    .dataframe tbody tr th:only-of-type {\n",
       "        vertical-align: middle;\n",
       "    }\n",
       "\n",
       "    .dataframe tbody tr th {\n",
       "        vertical-align: top;\n",
       "    }\n",
       "\n",
       "    .dataframe thead tr th {\n",
       "        text-align: left;\n",
       "    }\n",
       "</style>\n",
       "<table border=\"1\" class=\"dataframe\">\n",
       "  <thead>\n",
       "    <tr>\n",
       "      <th></th>\n",
       "      <th>order_id</th>\n",
       "      <th>prices</th>\n",
       "    </tr>\n",
       "    <tr>\n",
       "      <th></th>\n",
       "      <th></th>\n",
       "      <th>sum</th>\n",
       "    </tr>\n",
       "  </thead>\n",
       "  <tbody>\n",
       "    <tr>\n",
       "      <th>0</th>\n",
       "      <td>2</td>\n",
       "      <td>91.6</td>\n",
       "    </tr>\n",
       "    <tr>\n",
       "      <th>1</th>\n",
       "      <td>3</td>\n",
       "      <td>70.3</td>\n",
       "    </tr>\n",
       "    <tr>\n",
       "      <th>2</th>\n",
       "      <td>4</td>\n",
       "      <td>92.8</td>\n",
       "    </tr>\n",
       "    <tr>\n",
       "      <th>3</th>\n",
       "      <td>5</td>\n",
       "      <td>210.7</td>\n",
       "    </tr>\n",
       "    <tr>\n",
       "      <th>4</th>\n",
       "      <td>6</td>\n",
       "      <td>27.5</td>\n",
       "    </tr>\n",
       "  </tbody>\n",
       "</table>\n",
       "</div>"
      ],
      "text/plain": [
       "  order_id prices\n",
       "              sum\n",
       "0        2   91.6\n",
       "1        3   70.3\n",
       "2        4   92.8\n",
       "3        5  210.7\n",
       "4        6   27.5"
      ]
     },
     "execution_count": 13,
     "metadata": {},
     "output_type": "execute_result"
    }
   ],
   "source": [
    "df_orderid_sum.head()"
   ]
  },
  {
   "cell_type": "code",
   "execution_count": 14,
   "id": "380546ab-8232-468b-805f-50d5e070d79c",
   "metadata": {},
   "outputs": [
    {
     "data": {
      "text/plain": [
       "(3214668,)"
      ]
     },
     "execution_count": 14,
     "metadata": {},
     "output_type": "execute_result"
    }
   ],
   "source": [
    "#checking size to ensure accuracy\n",
    "ords_prods_merge['order_id'].value_counts().shape"
   ]
  },
  {
   "cell_type": "code",
   "execution_count": 16,
   "id": "5907d435-d118-4b07-a68e-cc97f1054346",
   "metadata": {},
   "outputs": [],
   "source": [
    "# joining tuple\n",
    "df_orderid_sum.columns = [''.join(col) if isinstance(col, tuple) else col for col in df_orderid_sum.columns]"
   ]
  },
  {
   "cell_type": "code",
   "execution_count": 17,
   "id": "f092fa09-57fe-4e1b-89fd-16d1c8dca034",
   "metadata": {},
   "outputs": [
    {
     "name": "stdout",
     "output_type": "stream",
     "text": [
      "Index(['user_id', 'First Name', 'Surname', 'Gender', 'State', 'Age',\n",
      "       'Dependents', 'fam_status', 'income', 'product_id', 'product_name',\n",
      "       'aisle_id', 'department_id', 'prices', 'order_id', 'eval_set',\n",
      "       'order_number', 'orders_day_of_the_week', 'order_hour_of_day',\n",
      "       'days_since_prior_order', 'add_to_cart_order', 'reordered', '_merge',\n",
      "       'price_range_loc', 'busiest_day', 'busiest_period_of_day', 'max_order',\n",
      "       'loyalty_flag', 'spending_level', 'loyalty_flag_spending',\n",
      "       'median_days_since_prior', 'loyalty_flag_freq', 'department_name'],\n",
      "      dtype='object')\n"
     ]
    }
   ],
   "source": [
    "print(ords_prods_merge.columns) "
   ]
  },
  {
   "cell_type": "code",
   "execution_count": 18,
   "id": "62b4d314-8c20-4316-9e65-3b51fb6e57c1",
   "metadata": {},
   "outputs": [
    {
     "name": "stdout",
     "output_type": "stream",
     "text": [
      "         order_id  pricessum\n",
      "0               2       91.6\n",
      "1               3       70.3\n",
      "2               4       92.8\n",
      "3               5      210.7\n",
      "4               6       27.5\n",
      "...           ...        ...\n",
      "3214663   3421079        1.6\n",
      "3214664   3421080       75.8\n",
      "3214665   3421081       79.0\n",
      "3214666   3421082       56.4\n",
      "3214667   3421083       69.4\n",
      "\n",
      "[3214668 rows x 2 columns]\n"
     ]
    }
   ],
   "source": [
    "print(df_orderid_sum)"
   ]
  },
  {
   "cell_type": "code",
   "execution_count": 19,
   "id": "4a6472ed-b062-4a2b-949d-dace02f6cd9d",
   "metadata": {},
   "outputs": [],
   "source": [
    "# merging on order_id \n",
    "df_order_sum = pd.merge(ords_prods_merge, df_orderid_sum, on='order_id', suffixes=('', '_agg'))\n"
   ]
  },
  {
   "cell_type": "code",
   "execution_count": 20,
   "id": "1fac1763-07ea-4596-9fa3-9fc68f5ae9e0",
   "metadata": {},
   "outputs": [
    {
     "name": "stdout",
     "output_type": "stream",
     "text": [
      "   user_id First Name   Surname  Gender     State  Age  Dependents fam_status  \\\n",
      "0    26711    Deborah  Esquivel  Female  Missouri   48           3    married   \n",
      "1    26711    Deborah  Esquivel  Female  Missouri   48           3    married   \n",
      "2    26711    Deborah  Esquivel  Female  Missouri   48           3    married   \n",
      "3    26711    Deborah  Esquivel  Female  Missouri   48           3    married   \n",
      "4    26711    Deborah  Esquivel  Female  Missouri   48           3    married   \n",
      "\n",
      "   income  product_id  ...     busiest_day  busiest_period_of_day  max_order  \\\n",
      "0  165665         196  ...     Busiest day         Average Orders          8   \n",
      "1  165665        6184  ...     Busiest day         Average Orders          8   \n",
      "2  165665        8617  ...     Busiest day         Average Orders          8   \n",
      "3  165665         196  ...  Regularly busy            Most Orders          8   \n",
      "4  165665        6184  ...  Regularly busy            Most Orders          8   \n",
      "\n",
      "   loyalty_flag  spending_level loyalty_flag_spending  \\\n",
      "0  New customer        7.988889           Low_spender   \n",
      "1  New customer        7.988889           Low_spender   \n",
      "2  New customer        7.988889           Low_spender   \n",
      "3  New customer        7.988889           Low_spender   \n",
      "4  New customer        7.988889           Low_spender   \n",
      "\n",
      "   median_days_since_prior  loyalty_flag_freq  department_name  pricessum  \n",
      "0                     19.0   Regular_customer        beverages       17.3  \n",
      "1                     19.0   Regular_customer          produce       17.3  \n",
      "2                     19.0   Regular_customer           snacks       17.3  \n",
      "3                     19.0   Regular_customer        beverages       25.9  \n",
      "4                     19.0   Regular_customer          produce       25.9  \n",
      "\n",
      "[5 rows x 34 columns]\n"
     ]
    }
   ],
   "source": [
    "print(df_order_sum.head())"
   ]
  },
  {
   "cell_type": "code",
   "execution_count": 21,
   "id": "5f3cfb59-ba21-44a2-b67a-2c2de3d960bf",
   "metadata": {},
   "outputs": [],
   "source": [
    "order_sum_bar = df_order_sum.sort_values(by=['order_id', 'pricessum'], ascending=[True, False])"
   ]
  },
  {
   "cell_type": "code",
   "execution_count": 22,
   "id": "def4df5c-6c92-4a8d-988e-197451d2662e",
   "metadata": {},
   "outputs": [],
   "source": [
    "#defining categories for chart\n",
    "average_order_loyal = order_sum_bar.groupby('loyalty_flag')['pricessum'].mean().sort_values(ascending=False)\n"
   ]
  },
  {
   "cell_type": "code",
   "execution_count": 23,
   "id": "c8859df3-fa4c-4387-890b-5620d533997e",
   "metadata": {},
   "outputs": [
    {
     "data": {
      "image/png": "[encoded data removed]",
      "text/plain": [
       "<Figure size 1000x600 with 1 Axes>"
      ]
     },
     "metadata": {},
     "output_type": "display_data"
    }
   ],
   "source": [
    "# plotting with color\n",
    "plt.figure(figsize=(10, 6))\n",
    "bar_avg_loyal_order = average_order_loyal.plot.bar(color = ['darkblue','green','red'])\n",
    "plt.xlabel('')\n",
    "plt.ylabel('Average Spend')\n",
    "plt.title('Average Spend for Users by Loyalty')\n",
    "plt.xticks(rotation=0)\n",
    "for bar in bar_avg_loyal_order.patches:\n",
    "    height = bar.get_height()\n",
    "    plt.text(bar.get_x() + bar.get_width() / 2, height, round(height, 2), ha='center', va='bottom')\n",
    "plt.show()"
   ]
  },
  {
   "cell_type": "code",
   "execution_count": 24,
   "id": "b630954b-0679-4964-aba2-95e7429b566e",
   "metadata": {},
   "outputs": [],
   "source": [
    "bar_avg_loyal_order.figure.savefig(os.path.join(path, '04 Analysis','Visualizations', 'bar_avg_loyal_order.png'))"
   ]
  },
  {
   "cell_type": "code",
   "execution_count": null,
   "id": "a2e10fda-3c54-4cfa-bbf4-c594223650c6",
   "metadata": {},
   "outputs": [],
   "source": []
  },
  {
   "cell_type": "markdown",
   "id": "7a31b87f-309c-4da4-ba30-a7b55889a4cf",
   "metadata": {},
   "source": [
    "# Key Question 9: \"Is there a connection between age and family status in terms of ordering habits\"?\n"
   ]
  },
  {
   "cell_type": "markdown",
   "id": "495294be-46d3-4ac6-9b82-2a05bb229706",
   "metadata": {},
   "source": [
    "Age - "
   ]
  },
  {
   "cell_type": "code",
   "execution_count": 25,
   "id": "93e6fe30-afa5-4645-a49f-7317190ea435",
   "metadata": {},
   "outputs": [
    {
     "data": {
      "text/plain": [
       "Index(['user_id', 'First Name', 'Surname', 'Gender', 'State', 'Age',\n",
       "       'Dependents', 'fam_status', 'income', 'product_id', 'product_name',\n",
       "       'aisle_id', 'department_id', 'prices', 'order_id', 'eval_set',\n",
       "       'order_number', 'orders_day_of_the_week', 'order_hour_of_day',\n",
       "       'days_since_prior_order', 'add_to_cart_order', 'reordered', '_merge',\n",
       "       'price_range_loc', 'busiest_day', 'busiest_period_of_day', 'max_order',\n",
       "       'loyalty_flag', 'spending_level', 'loyalty_flag_spending',\n",
       "       'median_days_since_prior', 'loyalty_flag_freq', 'department_name'],\n",
       "      dtype='object')"
      ]
     },
     "execution_count": 25,
     "metadata": {},
     "output_type": "execute_result"
    }
   ],
   "source": [
    "ords_prods_merge.columns"
   ]
  },
  {
   "cell_type": "code",
   "execution_count": 26,
   "id": "6d16b414-3699-4f36-9e7b-044546b6d93f",
   "metadata": {},
   "outputs": [],
   "source": [
    "age_fam_order = ords_prods_merge[['user_id','Age','fam_status','Dependents','orders_day_of_the_week','median_days_since_prior','loyalty_flag_freq']]"
   ]
  },
  {
   "cell_type": "code",
   "execution_count": 27,
   "id": "d58c8504-8835-427f-8949-6f6d3eca9c03",
   "metadata": {},
   "outputs": [
    {
     "data": {
      "text/html": [
       "<div>\n",
       "<style scoped>\n",
       "    .dataframe tbody tr th:only-of-type {\n",
       "        vertical-align: middle;\n",
       "    }\n",
       "\n",
       "    .dataframe tbody tr th {\n",
       "        vertical-align: top;\n",
       "    }\n",
       "\n",
       "    .dataframe thead th {\n",
       "        text-align: right;\n",
       "    }\n",
       "</style>\n",
       "<table border=\"1\" class=\"dataframe\">\n",
       "  <thead>\n",
       "    <tr style=\"text-align: right;\">\n",
       "      <th></th>\n",
       "      <th>user_id</th>\n",
       "      <th>Age</th>\n",
       "      <th>fam_status</th>\n",
       "      <th>Dependents</th>\n",
       "      <th>orders_day_of_the_week</th>\n",
       "      <th>median_days_since_prior</th>\n",
       "      <th>loyalty_flag_freq</th>\n",
       "    </tr>\n",
       "  </thead>\n",
       "  <tbody>\n",
       "    <tr>\n",
       "      <th>32399632</th>\n",
       "      <td>49635</td>\n",
       "      <td>62</td>\n",
       "      <td>married</td>\n",
       "      <td>3</td>\n",
       "      <td>6</td>\n",
       "      <td>10.0</td>\n",
       "      <td>nan</td>\n",
       "    </tr>\n",
       "    <tr>\n",
       "      <th>32399633</th>\n",
       "      <td>135902</td>\n",
       "      <td>66</td>\n",
       "      <td>married</td>\n",
       "      <td>2</td>\n",
       "      <td>5</td>\n",
       "      <td>8.0</td>\n",
       "      <td>Frequent_customer</td>\n",
       "    </tr>\n",
       "    <tr>\n",
       "      <th>32399634</th>\n",
       "      <td>135902</td>\n",
       "      <td>66</td>\n",
       "      <td>married</td>\n",
       "      <td>2</td>\n",
       "      <td>6</td>\n",
       "      <td>8.0</td>\n",
       "      <td>Frequent_customer</td>\n",
       "    </tr>\n",
       "    <tr>\n",
       "      <th>32399635</th>\n",
       "      <td>135902</td>\n",
       "      <td>66</td>\n",
       "      <td>married</td>\n",
       "      <td>2</td>\n",
       "      <td>6</td>\n",
       "      <td>8.0</td>\n",
       "      <td>Frequent_customer</td>\n",
       "    </tr>\n",
       "    <tr>\n",
       "      <th>32399636</th>\n",
       "      <td>135902</td>\n",
       "      <td>66</td>\n",
       "      <td>married</td>\n",
       "      <td>2</td>\n",
       "      <td>6</td>\n",
       "      <td>8.0</td>\n",
       "      <td>Frequent_customer</td>\n",
       "    </tr>\n",
       "    <tr>\n",
       "      <th>...</th>\n",
       "      <td>...</td>\n",
       "      <td>...</td>\n",
       "      <td>...</td>\n",
       "      <td>...</td>\n",
       "      <td>...</td>\n",
       "      <td>...</td>\n",
       "      <td>...</td>\n",
       "    </tr>\n",
       "    <tr>\n",
       "      <th>32399727</th>\n",
       "      <td>80148</td>\n",
       "      <td>55</td>\n",
       "      <td>married</td>\n",
       "      <td>1</td>\n",
       "      <td>6</td>\n",
       "      <td>12.0</td>\n",
       "      <td>Regular_customer</td>\n",
       "    </tr>\n",
       "    <tr>\n",
       "      <th>32399728</th>\n",
       "      <td>80148</td>\n",
       "      <td>55</td>\n",
       "      <td>married</td>\n",
       "      <td>1</td>\n",
       "      <td>6</td>\n",
       "      <td>12.0</td>\n",
       "      <td>Regular_customer</td>\n",
       "    </tr>\n",
       "    <tr>\n",
       "      <th>32399729</th>\n",
       "      <td>80148</td>\n",
       "      <td>55</td>\n",
       "      <td>married</td>\n",
       "      <td>1</td>\n",
       "      <td>6</td>\n",
       "      <td>12.0</td>\n",
       "      <td>Regular_customer</td>\n",
       "    </tr>\n",
       "    <tr>\n",
       "      <th>32399730</th>\n",
       "      <td>80148</td>\n",
       "      <td>55</td>\n",
       "      <td>married</td>\n",
       "      <td>1</td>\n",
       "      <td>6</td>\n",
       "      <td>12.0</td>\n",
       "      <td>Regular_customer</td>\n",
       "    </tr>\n",
       "    <tr>\n",
       "      <th>32399731</th>\n",
       "      <td>80148</td>\n",
       "      <td>55</td>\n",
       "      <td>married</td>\n",
       "      <td>1</td>\n",
       "      <td>6</td>\n",
       "      <td>12.0</td>\n",
       "      <td>Regular_customer</td>\n",
       "    </tr>\n",
       "  </tbody>\n",
       "</table>\n",
       "<p>100 rows × 7 columns</p>\n",
       "</div>"
      ],
      "text/plain": [
       "          user_id  Age fam_status  Dependents  orders_day_of_the_week  \\\n",
       "32399632    49635   62    married           3                       6   \n",
       "32399633   135902   66    married           2                       5   \n",
       "32399634   135902   66    married           2                       6   \n",
       "32399635   135902   66    married           2                       6   \n",
       "32399636   135902   66    married           2                       6   \n",
       "...           ...  ...        ...         ...                     ...   \n",
       "32399727    80148   55    married           1                       6   \n",
       "32399728    80148   55    married           1                       6   \n",
       "32399729    80148   55    married           1                       6   \n",
       "32399730    80148   55    married           1                       6   \n",
       "32399731    80148   55    married           1                       6   \n",
       "\n",
       "          median_days_since_prior  loyalty_flag_freq  \n",
       "32399632                     10.0                nan  \n",
       "32399633                      8.0  Frequent_customer  \n",
       "32399634                      8.0  Frequent_customer  \n",
       "32399635                      8.0  Frequent_customer  \n",
       "32399636                      8.0  Frequent_customer  \n",
       "...                           ...                ...  \n",
       "32399727                     12.0   Regular_customer  \n",
       "32399728                     12.0   Regular_customer  \n",
       "32399729                     12.0   Regular_customer  \n",
       "32399730                     12.0   Regular_customer  \n",
       "32399731                     12.0   Regular_customer  \n",
       "\n",
       "[100 rows x 7 columns]"
      ]
     },
     "execution_count": 27,
     "metadata": {},
     "output_type": "execute_result"
    }
   ],
   "source": [
    "age_fam_order.tail(100)"
   ]
  },
  {
   "cell_type": "code",
   "execution_count": 28,
   "id": "5b891dcc-7a37-4f10-a7d7-178d90f4fe0d",
   "metadata": {},
   "outputs": [],
   "source": [
    "df_age_fam_order = age_fam_order.sort_values(by=['Dependents','median_days_since_prior'], ascending=[True,False])\n"
   ]
  },
  {
   "cell_type": "markdown",
   "id": "e80cdd47-0040-4c2d-bf27-fcde622c6cfe",
   "metadata": {},
   "source": [
    "# age to day of week"
   ]
  },
  {
   "cell_type": "code",
   "execution_count": 29,
   "id": "c9671a8e-c349-4ec9-a88c-e64673240400",
   "metadata": {},
   "outputs": [],
   "source": [
    "aggregations = {\n",
    "    'Age': ['mean'],\n",
    "}"
   ]
  },
  {
   "cell_type": "code",
   "execution_count": 30,
   "id": "9b6417b4-f5a4-4caf-b6bb-a606b339056c",
   "metadata": {},
   "outputs": [
    {
     "name": "stdout",
     "output_type": "stream",
     "text": [
      "{'Age': ['mean']}\n"
     ]
    }
   ],
   "source": [
    "print(aggregations)"
   ]
  },
  {
   "cell_type": "code",
   "execution_count": 31,
   "id": "d70a6978-89a9-4018-b90b-fabb34aa93da",
   "metadata": {
    "scrolled": true
   },
   "outputs": [
    {
     "name": "stdout",
     "output_type": "stream",
     "text": [
      "                              Age\n",
      "                             mean\n",
      "orders_day_of_the_week           \n",
      "0                       49.446090\n",
      "1                       49.357713\n",
      "2                       49.497359\n",
      "3                       49.539556\n",
      "4                       49.418349\n",
      "5                       49.475558\n",
      "6                       49.563514\n"
     ]
    }
   ],
   "source": [
    "df_result = age_fam_order.groupby('orders_day_of_the_week').agg(aggregations)\n",
    "print(df_result)"
   ]
  },
  {
   "cell_type": "code",
   "execution_count": null,
   "id": "2e5acc55-5197-4f1c-80d2-25863486933c",
   "metadata": {},
   "outputs": [],
   "source": []
  },
  {
   "cell_type": "code",
   "execution_count": 32,
   "id": "83f745cc-fb3a-4a06-be80-868ad503882b",
   "metadata": {},
   "outputs": [
    {
     "data": {
      "text/plain": [
       "<Figure size 1000x600 with 0 Axes>"
      ]
     },
     "metadata": {},
     "output_type": "display_data"
    },
    {
     "data": {
      "image/png": "[encoded data removed]",
      "text/plain": [
       "<Figure size 640x480 with 1 Axes>"
      ]
     },
     "metadata": {},
     "output_type": "display_data"
    }
   ],
   "source": [
    "plt.figure(figsize=(10, 6))\n",
    "bar_age_fam_order = df_result.plot.bar(color = ['darkblue'])\n",
    "plt.xlabel('Day of the Week')\n",
    "plt.ylabel('Average Age')\n",
    "plt.title('Average Age of Users by Day of the Week')\n",
    "plt.xticks(rotation=0)\n",
    "for bar in bar_age_fam_order.patches:\n",
    "    height = bar.get_height()\n",
    "    plt.text(bar.get_x() + bar.get_width() / 2, height, round(height, 2), ha='center', va='bottom')\n",
    "plt.legend('')\n",
    "plt.show()"
   ]
  },
  {
   "cell_type": "code",
   "execution_count": 33,
   "id": "01dfdfde-70fa-4556-8fe7-dcf50688aca6",
   "metadata": {},
   "outputs": [],
   "source": [
    "bar_age_fam_order.figure.savefig(os.path.join(path, '04 Analysis','Visualizations', 'bar_age_avg_dow.png'))"
   ]
  },
  {
   "cell_type": "markdown",
   "id": "efc54a84-9b6d-40ff-9c62-2c881f72fce8",
   "metadata": {},
   "source": [
    "# fam status and order dow"
   ]
  },
  {
   "cell_type": "code",
   "execution_count": 34,
   "id": "91744b69-71ab-44ec-a665-66f837ebd918",
   "metadata": {},
   "outputs": [
    {
     "name": "stdout",
     "output_type": "stream",
     "text": [
      "fam_status\n",
      "married                             22753055\n",
      "single                               5324920\n",
      "divorced/widowed                     2771355\n",
      "living with parents and siblings     1550402\n",
      "Name: count, dtype: int64\n"
     ]
    }
   ],
   "source": [
    "fam_status_count = age_fam_order['fam_status'].value_counts()\n",
    "print(fam_status_count)"
   ]
  },
  {
   "cell_type": "code",
   "execution_count": 37,
   "id": "d5990e16-f3de-4f1e-b5f0-b0b620b9f6be",
   "metadata": {},
   "outputs": [],
   "source": [
    "#grouped_hour_age = selected_columns.groupby(['order_hour_of_day','Age_Group']).size().unstack(fill_value=0)\n",
    "grouped_status_dow = age_fam_order.groupby(['orders_day_of_the_week','fam_status']).size().unstack(fill_value=0)"
   ]
  },
  {
   "cell_type": "code",
   "execution_count": 41,
   "id": "ea28430e-0107-4ef9-b57c-6e39f61409c5",
   "metadata": {},
   "outputs": [],
   "source": [
    "df_status_dow = age_fam_order['orders_day_of_the_week'].groupby(fam_status_count.value_counts())"
   ]
  },
  {
   "cell_type": "code",
   "execution_count": 42,
   "id": "bd3d116e-c795-4194-ae3d-259147f63ea4",
   "metadata": {},
   "outputs": [
    {
     "data": {
      "text/plain": [
       "<Figure size 1000x600 with 0 Axes>"
      ]
     },
     "metadata": {},
     "output_type": "display_data"
    },
    {
     "data": {
      "image/png": "[encoded data removed]",
      "text/plain": [
       "<Figure size 640x480 with 1 Axes>"
      ]
     },
     "metadata": {},
     "output_type": "display_data"
    }
   ],
   "source": [
    "plt.figure(figsize=(10, 6))\n",
    "bar_status_dow = groued_status_dow.plot.bar(color = ['orange','pink','darkblue','green'])\n",
    "plt.xlabel('Day of the Week')\n",
    "plt.ylabel('Count of Users')\n",
    "plt.title('Family Status of Users by Day of the Week')\n",
    "plt.xticks(rotation=0)\n",
    "\n",
    "plt.legend()\n",
    "plt.show()"
   ]
  },
  {
   "cell_type": "code",
   "execution_count": 43,
   "id": "0beefb65-d088-42b2-95d3-3b024d7236a9",
   "metadata": {},
   "outputs": [],
   "source": [
    "bar_status_dow.figure.savefig(os.path.join(path, '04 Analysis','Visualizations', 'bar_status_dow.png'))"
   ]
  },
  {
   "cell_type": "code",
   "execution_count": null,
   "id": "5033a183-88f6-46b6-bdec-fb4bee48ee9b",
   "metadata": {},
   "outputs": [],
   "source": []
  }
 ],
 "metadata": {
  "kernelspec": {
   "display_name": "Python 3 (ipykernel)",
   "language": "python",
   "name": "python3"
  },
  "language_info": {
   "codemirror_mode": {
    "name": "ipython",
    "version": 3
   },
   "file_extension": ".py",
   "mimetype": "text/x-python",
   "name": "python",
   "nbconvert_exporter": "python",
   "pygments_lexer": "ipython3",
   "version": "3.11.7"
  }
 },
 "nbformat": 4,
 "nbformat_minor": 5
}
