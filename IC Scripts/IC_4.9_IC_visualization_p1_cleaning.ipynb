{
 "cells": [
  {
   "cell_type": "markdown",
   "id": "3c94b6fd-9d5e-4038-8e37-02800dc939c2",
   "metadata": {},
   "source": [
    "# 4.9 task work - part 1"
   ]
  },
  {
   "cell_type": "code",
   "execution_count": 2,
   "id": "0644beec-76d4-4265-80d0-ec9ffd57e8b9",
   "metadata": {},
   "outputs": [],
   "source": [
    "# importing libraries\n",
    "import pandas as pd\n",
    "import numpy as np\n",
    "import os\n",
    "import matplotlib.pyplot as plt\n",
    "import seaborn as sns\n",
    "import scipy"
   ]
  },
  {
   "cell_type": "code",
   "execution_count": 3,
   "id": "7a15f568-5d0b-4e0d-a423-1b71899cf6ca",
   "metadata": {},
   "outputs": [],
   "source": [
    "path = r\"C:\\Users\\Noah\\4.3.24_INSTACART BASKET ANALYSIS\""
   ]
  },
  {
   "cell_type": "code",
   "execution_count": 4,
   "id": "2438b9f3-63ca-4a55-9f9d-8049f52c404f",
   "metadata": {},
   "outputs": [],
   "source": [
    "customers = pd.read_csv(os.path.join(path, '02 Data', 'Original Data', 'customers', 'customers.csv'), index_col = False)"
   ]
  },
  {
   "cell_type": "code",
   "execution_count": 5,
   "id": "cbb966dc-08c3-49e3-9133-b5a5d883c593",
   "metadata": {},
   "outputs": [
    {
     "data": {
      "text/html": [
       "<div>\n",
       "<style scoped>\n",
       "    .dataframe tbody tr th:only-of-type {\n",
       "        vertical-align: middle;\n",
       "    }\n",
       "\n",
       "    .dataframe tbody tr th {\n",
       "        vertical-align: top;\n",
       "    }\n",
       "\n",
       "    .dataframe thead th {\n",
       "        text-align: right;\n",
       "    }\n",
       "</style>\n",
       "<table border=\"1\" class=\"dataframe\">\n",
       "  <thead>\n",
       "    <tr style=\"text-align: right;\">\n",
       "      <th></th>\n",
       "      <th>user_id</th>\n",
       "      <th>First Name</th>\n",
       "      <th>Surnam</th>\n",
       "      <th>Gender</th>\n",
       "      <th>STATE</th>\n",
       "      <th>Age</th>\n",
       "      <th>date_joined</th>\n",
       "      <th>n_dependants</th>\n",
       "      <th>fam_status</th>\n",
       "      <th>income</th>\n",
       "    </tr>\n",
       "  </thead>\n",
       "  <tbody>\n",
       "    <tr>\n",
       "      <th>0</th>\n",
       "      <td>26711</td>\n",
       "      <td>Deborah</td>\n",
       "      <td>Esquivel</td>\n",
       "      <td>Female</td>\n",
       "      <td>Missouri</td>\n",
       "      <td>48</td>\n",
       "      <td>1/1/2017</td>\n",
       "      <td>3</td>\n",
       "      <td>married</td>\n",
       "      <td>165665</td>\n",
       "    </tr>\n",
       "  </tbody>\n",
       "</table>\n",
       "</div>"
      ],
      "text/plain": [
       "   user_id First Name    Surnam  Gender     STATE  Age date_joined  \\\n",
       "0    26711    Deborah  Esquivel  Female  Missouri   48    1/1/2017   \n",
       "\n",
       "   n_dependants fam_status  income  \n",
       "0             3    married  165665  "
      ]
     },
     "execution_count": 5,
     "metadata": {},
     "output_type": "execute_result"
    }
   ],
   "source": [
    "customers.head(1)"
   ]
  },
  {
   "cell_type": "markdown",
   "id": "e1e0f7da-d4bd-40a7-8f23-75bdbc800cfa",
   "metadata": {},
   "source": [
    "# wrangling "
   ]
  },
  {
   "cell_type": "code",
   "execution_count": 6,
   "id": "557c92a2-fd70-49e6-a1bb-cf56e7bdb370",
   "metadata": {},
   "outputs": [
    {
     "data": {
      "text/plain": [
       "user_id             0\n",
       "First Name      11259\n",
       "Surnam              0\n",
       "Gender              0\n",
       "STATE               0\n",
       "Age                 0\n",
       "date_joined         0\n",
       "n_dependants        0\n",
       "fam_status          0\n",
       "income              0\n",
       "dtype: int64"
      ]
     },
     "execution_count": 6,
     "metadata": {},
     "output_type": "execute_result"
    }
   ],
   "source": [
    "customers.isnull().sum()"
   ]
  },
  {
   "cell_type": "code",
   "execution_count": 7,
   "id": "67e70cb5-56f5-404b-8c5f-5606c7bb58ad",
   "metadata": {},
   "outputs": [
    {
     "data": {
      "text/plain": [
       "First Name\n",
       "NaN        11259\n",
       "Marilyn     2213\n",
       "Barbara     2154\n",
       "Todd        2113\n",
       "Jeremy      2104\n",
       "           ...  \n",
       "Merry        197\n",
       "Eugene       197\n",
       "Garry        191\n",
       "Ned          186\n",
       "David        186\n",
       "Name: count, Length: 208, dtype: int64"
      ]
     },
     "execution_count": 7,
     "metadata": {},
     "output_type": "execute_result"
    }
   ],
   "source": [
    "# investigating missing values\n",
    "customers['First Name'].value_counts(dropna = False)"
   ]
  },
  {
   "cell_type": "markdown",
   "id": "7de2ed19-8f83-4fc0-9aa7-627e79a97ad5",
   "metadata": {},
   "source": [
    "## renaming columns"
   ]
  },
  {
   "cell_type": "code",
   "execution_count": 8,
   "id": "43091070-5187-4851-bf99-2c90a93d36f8",
   "metadata": {},
   "outputs": [],
   "source": [
    "customers.rename(columns = {'Surnam' : 'Surname'}, inplace = True)"
   ]
  },
  {
   "cell_type": "code",
   "execution_count": 9,
   "id": "93009c23-2ba6-4d61-b867-40c477c914df",
   "metadata": {},
   "outputs": [],
   "source": [
    "customers.rename(columns = {'STATE' : 'State'}, inplace = True)"
   ]
  },
  {
   "cell_type": "code",
   "execution_count": 10,
   "id": "9c91bf02-20cf-4283-adbf-3f15cc5984a6",
   "metadata": {},
   "outputs": [],
   "source": [
    "customers.rename(columns = {'n_dependants' : 'Dependents'}, inplace = True)"
   ]
  },
  {
   "cell_type": "code",
   "execution_count": 11,
   "id": "e35ff69c-b604-4f23-923d-9ebb076a0790",
   "metadata": {},
   "outputs": [
    {
     "data": {
      "text/html": [
       "<div>\n",
       "<style scoped>\n",
       "    .dataframe tbody tr th:only-of-type {\n",
       "        vertical-align: middle;\n",
       "    }\n",
       "\n",
       "    .dataframe tbody tr th {\n",
       "        vertical-align: top;\n",
       "    }\n",
       "\n",
       "    .dataframe thead th {\n",
       "        text-align: right;\n",
       "    }\n",
       "</style>\n",
       "<table border=\"1\" class=\"dataframe\">\n",
       "  <thead>\n",
       "    <tr style=\"text-align: right;\">\n",
       "      <th></th>\n",
       "      <th>user_id</th>\n",
       "      <th>First Name</th>\n",
       "      <th>Surname</th>\n",
       "      <th>Gender</th>\n",
       "      <th>State</th>\n",
       "      <th>Age</th>\n",
       "      <th>date_joined</th>\n",
       "      <th>Dependents</th>\n",
       "      <th>fam_status</th>\n",
       "      <th>income</th>\n",
       "    </tr>\n",
       "  </thead>\n",
       "  <tbody>\n",
       "    <tr>\n",
       "      <th>0</th>\n",
       "      <td>26711</td>\n",
       "      <td>Deborah</td>\n",
       "      <td>Esquivel</td>\n",
       "      <td>Female</td>\n",
       "      <td>Missouri</td>\n",
       "      <td>48</td>\n",
       "      <td>1/1/2017</td>\n",
       "      <td>3</td>\n",
       "      <td>married</td>\n",
       "      <td>165665</td>\n",
       "    </tr>\n",
       "  </tbody>\n",
       "</table>\n",
       "</div>"
      ],
      "text/plain": [
       "   user_id First Name   Surname  Gender     State  Age date_joined  \\\n",
       "0    26711    Deborah  Esquivel  Female  Missouri   48    1/1/2017   \n",
       "\n",
       "   Dependents fam_status  income  \n",
       "0           3    married  165665  "
      ]
     },
     "execution_count": 11,
     "metadata": {},
     "output_type": "execute_result"
    }
   ],
   "source": [
    "customers.head(1)"
   ]
  },
  {
   "cell_type": "markdown",
   "id": "0f3d927d-43e2-45d1-a2a1-3695181806eb",
   "metadata": {},
   "source": [
    "### decribing the data\n"
   ]
  },
  {
   "cell_type": "code",
   "execution_count": 12,
   "id": "b308b1e7-8b05-41b0-828e-7363c5d7e6f5",
   "metadata": {},
   "outputs": [
    {
     "data": {
      "text/html": [
       "<div>\n",
       "<style scoped>\n",
       "    .dataframe tbody tr th:only-of-type {\n",
       "        vertical-align: middle;\n",
       "    }\n",
       "\n",
       "    .dataframe tbody tr th {\n",
       "        vertical-align: top;\n",
       "    }\n",
       "\n",
       "    .dataframe thead th {\n",
       "        text-align: right;\n",
       "    }\n",
       "</style>\n",
       "<table border=\"1\" class=\"dataframe\">\n",
       "  <thead>\n",
       "    <tr style=\"text-align: right;\">\n",
       "      <th></th>\n",
       "      <th>user_id</th>\n",
       "      <th>Age</th>\n",
       "      <th>Dependents</th>\n",
       "      <th>income</th>\n",
       "    </tr>\n",
       "  </thead>\n",
       "  <tbody>\n",
       "    <tr>\n",
       "      <th>count</th>\n",
       "      <td>206209.000000</td>\n",
       "      <td>206209.000000</td>\n",
       "      <td>206209.000000</td>\n",
       "      <td>206209.000000</td>\n",
       "    </tr>\n",
       "    <tr>\n",
       "      <th>mean</th>\n",
       "      <td>103105.000000</td>\n",
       "      <td>49.501646</td>\n",
       "      <td>1.499823</td>\n",
       "      <td>94632.852548</td>\n",
       "    </tr>\n",
       "    <tr>\n",
       "      <th>std</th>\n",
       "      <td>59527.555167</td>\n",
       "      <td>18.480962</td>\n",
       "      <td>1.118433</td>\n",
       "      <td>42473.786988</td>\n",
       "    </tr>\n",
       "    <tr>\n",
       "      <th>min</th>\n",
       "      <td>1.000000</td>\n",
       "      <td>18.000000</td>\n",
       "      <td>0.000000</td>\n",
       "      <td>25903.000000</td>\n",
       "    </tr>\n",
       "    <tr>\n",
       "      <th>25%</th>\n",
       "      <td>51553.000000</td>\n",
       "      <td>33.000000</td>\n",
       "      <td>0.000000</td>\n",
       "      <td>59874.000000</td>\n",
       "    </tr>\n",
       "    <tr>\n",
       "      <th>50%</th>\n",
       "      <td>103105.000000</td>\n",
       "      <td>49.000000</td>\n",
       "      <td>1.000000</td>\n",
       "      <td>93547.000000</td>\n",
       "    </tr>\n",
       "    <tr>\n",
       "      <th>75%</th>\n",
       "      <td>154657.000000</td>\n",
       "      <td>66.000000</td>\n",
       "      <td>3.000000</td>\n",
       "      <td>124244.000000</td>\n",
       "    </tr>\n",
       "    <tr>\n",
       "      <th>max</th>\n",
       "      <td>206209.000000</td>\n",
       "      <td>81.000000</td>\n",
       "      <td>3.000000</td>\n",
       "      <td>593901.000000</td>\n",
       "    </tr>\n",
       "  </tbody>\n",
       "</table>\n",
       "</div>"
      ],
      "text/plain": [
       "             user_id            Age     Dependents         income\n",
       "count  206209.000000  206209.000000  206209.000000  206209.000000\n",
       "mean   103105.000000      49.501646       1.499823   94632.852548\n",
       "std     59527.555167      18.480962       1.118433   42473.786988\n",
       "min         1.000000      18.000000       0.000000   25903.000000\n",
       "25%     51553.000000      33.000000       0.000000   59874.000000\n",
       "50%    103105.000000      49.000000       1.000000   93547.000000\n",
       "75%    154657.000000      66.000000       3.000000  124244.000000\n",
       "max    206209.000000      81.000000       3.000000  593901.000000"
      ]
     },
     "execution_count": 12,
     "metadata": {},
     "output_type": "execute_result"
    }
   ],
   "source": [
    "customers.describe()"
   ]
  },
  {
   "cell_type": "markdown",
   "id": "e4889fe6-311a-4ee7-95d6-816259411015",
   "metadata": {},
   "source": [
    "no glaring outliers in the describe table"
   ]
  },
  {
   "cell_type": "code",
   "execution_count": 13,
   "id": "d40260ec-07ab-4e74-b4d5-9cca87dc5662",
   "metadata": {},
   "outputs": [
    {
     "name": "stdout",
     "output_type": "stream",
     "text": [
      "First Name\n"
     ]
    }
   ],
   "source": [
    "# checking for mix type columns\n",
    "for col in customers.columns.tolist():\n",
    "  weird = (customers[[col]].map(type) != customers[[col]].iloc[0].apply(type)).any(axis = 1)\n",
    "  if len (customers[weird]) > 0:\n",
    "    print (col)"
   ]
  },
  {
   "cell_type": "code",
   "execution_count": 14,
   "id": "a2d3e042-7210-4e05-801c-794d25e12cab",
   "metadata": {},
   "outputs": [],
   "source": [
    "# first name is a string data type - converting\n",
    "customers['First Name'] = customers['First Name'].astype('str')\n"
   ]
  },
  {
   "cell_type": "code",
   "execution_count": 15,
   "id": "ba7dae56-7603-4187-ada5-c6dafafd1f6a",
   "metadata": {},
   "outputs": [],
   "source": [
    "#rechecking data types for mix\n",
    "for col in customers.columns.tolist():\n",
    "  weird = (customers[[col]].map(type) != customers[[col]].iloc[0].apply(type)).any(axis = 1)\n",
    "  if len (customers[weird]) > 0:\n",
    "    print (col)"
   ]
  },
  {
   "cell_type": "markdown",
   "id": "f4f9b9b5-4135-4b19-b981-380ba4224f42",
   "metadata": {},
   "source": [
    "# importing ords_prods_merge data"
   ]
  },
  {
   "cell_type": "code",
   "execution_count": 16,
   "id": "6bfea4b0-f1f2-4c74-a9ef-f764c8bf4ab7",
   "metadata": {},
   "outputs": [
    {
     "name": "stdout",
     "output_type": "stream",
     "text": [
      "user_id         int64\n",
      "First Name     object\n",
      "Surname        object\n",
      "Gender         object\n",
      "State          object\n",
      "Age             int64\n",
      "date_joined    object\n",
      "Dependents      int64\n",
      "fam_status     object\n",
      "income          int64\n",
      "dtype: object\n"
     ]
    }
   ],
   "source": [
    "# checking data types\n",
    "print(customers.dtypes)"
   ]
  },
  {
   "cell_type": "markdown",
   "id": "8f64d3fe-2fb3-4406-8bcf-b7d868191874",
   "metadata": {},
   "source": [
    "user_id is key column, both int64"
   ]
  },
  {
   "cell_type": "code",
   "execution_count": 17,
   "id": "26d67d9e-4834-4a0b-98f5-457308029593",
   "metadata": {},
   "outputs": [
    {
     "name": "stdout",
     "output_type": "stream",
     "text": [
      "<bound method DataFrame.value_counts of         user_id First Name   Surname  Gender           State  Age date_joined  \\\n",
      "0         26711    Deborah  Esquivel  Female        Missouri   48    1/1/2017   \n",
      "1         33890   Patricia      Hart  Female      New Mexico   36    1/1/2017   \n",
      "2         65803    Kenneth    Farley    Male           Idaho   35    1/1/2017   \n",
      "3        125935   Michelle     Hicks  Female            Iowa   40    1/1/2017   \n",
      "4        130797        Ann   Gilmore  Female        Maryland   26    1/1/2017   \n",
      "...         ...        ...       ...     ...             ...  ...         ...   \n",
      "206204   168073       Lisa      Case  Female  North Carolina   44    4/1/2020   \n",
      "206205    49635     Jeremy   Robbins    Male          Hawaii   62    4/1/2020   \n",
      "206206   135902      Doris  Richmond  Female        Missouri   66    4/1/2020   \n",
      "206207    81095       Rose   Rollins  Female      California   27    4/1/2020   \n",
      "206208    80148    Cynthia     Noble  Female        New York   55    4/1/2020   \n",
      "\n",
      "        Dependents fam_status  income  \n",
      "0                3    married  165665  \n",
      "1                0     single   59285  \n",
      "2                2    married   99568  \n",
      "3                0     single   42049  \n",
      "4                1    married   40374  \n",
      "...            ...        ...     ...  \n",
      "206204           1    married  148828  \n",
      "206205           3    married  168639  \n",
      "206206           2    married   53374  \n",
      "206207           1    married   99799  \n",
      "206208           1    married   57095  \n",
      "\n",
      "[206209 rows x 10 columns]>\n"
     ]
    }
   ],
   "source": [
    "print(customers.value_counts)"
   ]
  },
  {
   "cell_type": "markdown",
   "id": "626c9431-3c84-4f68-baa6-e21222f81e85",
   "metadata": {},
   "source": [
    "# merging the data"
   ]
  },
  {
   "cell_type": "code",
   "execution_count": 18,
   "id": "1f70a49e-f8b1-431e-851c-c2141bd2d9f4",
   "metadata": {},
   "outputs": [],
   "source": [
    "ords_prods_merge = pd.read_pickle(os.path.join(path, '02 Data' , 'Prepared Data', '4.8_ords_prods_merge.pkl'))"
   ]
  },
  {
   "cell_type": "code",
   "execution_count": 22,
   "id": "9147d590-aa6c-4801-8895-fbdf9089c4f4",
   "metadata": {},
   "outputs": [],
   "source": [
    "# merging datasets\n",
    "df_merged = customers.merge(ords_prods_merge, on = 'user_id')"
   ]
  },
  {
   "cell_type": "code",
   "execution_count": 23,
   "id": "d04c720d-f48a-488e-89fb-507399f26237",
   "metadata": {},
   "outputs": [
    {
     "data": {
      "text/html": [
       "<div>\n",
       "<style scoped>\n",
       "    .dataframe tbody tr th:only-of-type {\n",
       "        vertical-align: middle;\n",
       "    }\n",
       "\n",
       "    .dataframe tbody tr th {\n",
       "        vertical-align: top;\n",
       "    }\n",
       "\n",
       "    .dataframe thead th {\n",
       "        text-align: right;\n",
       "    }\n",
       "</style>\n",
       "<table border=\"1\" class=\"dataframe\">\n",
       "  <thead>\n",
       "    <tr style=\"text-align: right;\">\n",
       "      <th></th>\n",
       "      <th>user_id</th>\n",
       "      <th>First Name</th>\n",
       "      <th>Surname</th>\n",
       "      <th>Gender</th>\n",
       "      <th>State</th>\n",
       "      <th>Age</th>\n",
       "      <th>date_joined</th>\n",
       "      <th>Dependents</th>\n",
       "      <th>fam_status</th>\n",
       "      <th>income</th>\n",
       "      <th>...</th>\n",
       "      <th>_merge</th>\n",
       "      <th>price_range_loc</th>\n",
       "      <th>busiest_day</th>\n",
       "      <th>busiest_period_of_day</th>\n",
       "      <th>max_order</th>\n",
       "      <th>loyalty_flag</th>\n",
       "      <th>spending_level</th>\n",
       "      <th>loyalty_flag_spending</th>\n",
       "      <th>median_days_since_prior</th>\n",
       "      <th>loyalty_flag_freq</th>\n",
       "    </tr>\n",
       "  </thead>\n",
       "  <tbody>\n",
       "    <tr>\n",
       "      <th>0</th>\n",
       "      <td>26711</td>\n",
       "      <td>Deborah</td>\n",
       "      <td>Esquivel</td>\n",
       "      <td>Female</td>\n",
       "      <td>Missouri</td>\n",
       "      <td>48</td>\n",
       "      <td>1/1/2017</td>\n",
       "      <td>3</td>\n",
       "      <td>married</td>\n",
       "      <td>165665</td>\n",
       "      <td>...</td>\n",
       "      <td>both</td>\n",
       "      <td>Mid-range product</td>\n",
       "      <td>Busiest day</td>\n",
       "      <td>Average Orders</td>\n",
       "      <td>8</td>\n",
       "      <td>New customer</td>\n",
       "      <td>7.988889</td>\n",
       "      <td>Low_spender</td>\n",
       "      <td>19.0</td>\n",
       "      <td>Regular_customer</td>\n",
       "    </tr>\n",
       "    <tr>\n",
       "      <th>1</th>\n",
       "      <td>26711</td>\n",
       "      <td>Deborah</td>\n",
       "      <td>Esquivel</td>\n",
       "      <td>Female</td>\n",
       "      <td>Missouri</td>\n",
       "      <td>48</td>\n",
       "      <td>1/1/2017</td>\n",
       "      <td>3</td>\n",
       "      <td>married</td>\n",
       "      <td>165665</td>\n",
       "      <td>...</td>\n",
       "      <td>both</td>\n",
       "      <td>Mid-range product</td>\n",
       "      <td>Regularly busy</td>\n",
       "      <td>Most Orders</td>\n",
       "      <td>8</td>\n",
       "      <td>New customer</td>\n",
       "      <td>7.988889</td>\n",
       "      <td>Low_spender</td>\n",
       "      <td>19.0</td>\n",
       "      <td>Regular_customer</td>\n",
       "    </tr>\n",
       "    <tr>\n",
       "      <th>2</th>\n",
       "      <td>26711</td>\n",
       "      <td>Deborah</td>\n",
       "      <td>Esquivel</td>\n",
       "      <td>Female</td>\n",
       "      <td>Missouri</td>\n",
       "      <td>48</td>\n",
       "      <td>1/1/2017</td>\n",
       "      <td>3</td>\n",
       "      <td>married</td>\n",
       "      <td>165665</td>\n",
       "      <td>...</td>\n",
       "      <td>both</td>\n",
       "      <td>Mid-range product</td>\n",
       "      <td>Busiest day</td>\n",
       "      <td>Most Orders</td>\n",
       "      <td>8</td>\n",
       "      <td>New customer</td>\n",
       "      <td>7.988889</td>\n",
       "      <td>Low_spender</td>\n",
       "      <td>19.0</td>\n",
       "      <td>Regular_customer</td>\n",
       "    </tr>\n",
       "    <tr>\n",
       "      <th>3</th>\n",
       "      <td>26711</td>\n",
       "      <td>Deborah</td>\n",
       "      <td>Esquivel</td>\n",
       "      <td>Female</td>\n",
       "      <td>Missouri</td>\n",
       "      <td>48</td>\n",
       "      <td>1/1/2017</td>\n",
       "      <td>3</td>\n",
       "      <td>married</td>\n",
       "      <td>165665</td>\n",
       "      <td>...</td>\n",
       "      <td>both</td>\n",
       "      <td>Low-range product</td>\n",
       "      <td>Regularly busy</td>\n",
       "      <td>Average Orders</td>\n",
       "      <td>8</td>\n",
       "      <td>New customer</td>\n",
       "      <td>7.988889</td>\n",
       "      <td>Low_spender</td>\n",
       "      <td>19.0</td>\n",
       "      <td>Regular_customer</td>\n",
       "    </tr>\n",
       "    <tr>\n",
       "      <th>4</th>\n",
       "      <td>26711</td>\n",
       "      <td>Deborah</td>\n",
       "      <td>Esquivel</td>\n",
       "      <td>Female</td>\n",
       "      <td>Missouri</td>\n",
       "      <td>48</td>\n",
       "      <td>1/1/2017</td>\n",
       "      <td>3</td>\n",
       "      <td>married</td>\n",
       "      <td>165665</td>\n",
       "      <td>...</td>\n",
       "      <td>both</td>\n",
       "      <td>Low-range product</td>\n",
       "      <td>Least busy</td>\n",
       "      <td>Most Orders</td>\n",
       "      <td>8</td>\n",
       "      <td>New customer</td>\n",
       "      <td>7.988889</td>\n",
       "      <td>Low_spender</td>\n",
       "      <td>19.0</td>\n",
       "      <td>Regular_customer</td>\n",
       "    </tr>\n",
       "  </tbody>\n",
       "</table>\n",
       "<p>5 rows × 33 columns</p>\n",
       "</div>"
      ],
      "text/plain": [
       "   user_id First Name   Surname  Gender     State  Age date_joined  \\\n",
       "0    26711    Deborah  Esquivel  Female  Missouri   48    1/1/2017   \n",
       "1    26711    Deborah  Esquivel  Female  Missouri   48    1/1/2017   \n",
       "2    26711    Deborah  Esquivel  Female  Missouri   48    1/1/2017   \n",
       "3    26711    Deborah  Esquivel  Female  Missouri   48    1/1/2017   \n",
       "4    26711    Deborah  Esquivel  Female  Missouri   48    1/1/2017   \n",
       "\n",
       "   Dependents fam_status  income  ...  _merge    price_range_loc  \\\n",
       "0           3    married  165665  ...    both  Mid-range product   \n",
       "1           3    married  165665  ...    both  Mid-range product   \n",
       "2           3    married  165665  ...    both  Mid-range product   \n",
       "3           3    married  165665  ...    both  Low-range product   \n",
       "4           3    married  165665  ...    both  Low-range product   \n",
       "\n",
       "      busiest_day  busiest_period_of_day  max_order  loyalty_flag  \\\n",
       "0     Busiest day         Average Orders          8  New customer   \n",
       "1  Regularly busy            Most Orders          8  New customer   \n",
       "2     Busiest day            Most Orders          8  New customer   \n",
       "3  Regularly busy         Average Orders          8  New customer   \n",
       "4      Least busy            Most Orders          8  New customer   \n",
       "\n",
       "  spending_level  loyalty_flag_spending  median_days_since_prior  \\\n",
       "0       7.988889            Low_spender                     19.0   \n",
       "1       7.988889            Low_spender                     19.0   \n",
       "2       7.988889            Low_spender                     19.0   \n",
       "3       7.988889            Low_spender                     19.0   \n",
       "4       7.988889            Low_spender                     19.0   \n",
       "\n",
       "   loyalty_flag_freq  \n",
       "0   Regular_customer  \n",
       "1   Regular_customer  \n",
       "2   Regular_customer  \n",
       "3   Regular_customer  \n",
       "4   Regular_customer  \n",
       "\n",
       "[5 rows x 33 columns]"
      ]
     },
     "execution_count": 23,
     "metadata": {},
     "output_type": "execute_result"
    }
   ],
   "source": [
    "df_merged.head()"
   ]
  },
  {
   "cell_type": "code",
   "execution_count": 24,
   "id": "79a1d11e-c644-45a8-8dad-d32e8bc4fb9a",
   "metadata": {},
   "outputs": [
    {
     "data": {
      "text/plain": [
       "_merge\n",
       "both          32399732\n",
       "left_only            0\n",
       "right_only           0\n",
       "Name: count, dtype: int64"
      ]
     },
     "execution_count": 24,
     "metadata": {},
     "output_type": "execute_result"
    }
   ],
   "source": [
    "df_merged['_merge'].value_counts()"
   ]
  },
  {
   "cell_type": "markdown",
   "id": "8321464c-0be5-4335-ad9d-555115158128",
   "metadata": {},
   "source": [
    "all values are merged on both tables, data is cleaned, wrangled, and ready for export"
   ]
  },
  {
   "cell_type": "code",
   "execution_count": 28,
   "id": "2765b42b-66cb-40d7-9f75-008a76f204a8",
   "metadata": {},
   "outputs": [],
   "source": [
    "# exporting data \n",
    "df_merged.to_pickle(os.path.join(path, '02 Data','Prepared Data', '4.9_pt1_merged.pkl'))"
   ]
  },
  {
   "cell_type": "code",
   "execution_count": null,
   "id": "4c672d61-b5de-44d6-af67-4b33fda7857d",
   "metadata": {},
   "outputs": [],
   "source": []
  }
 ],
 "metadata": {
  "kernelspec": {
   "display_name": "Python 3 (ipykernel)",
   "language": "python",
   "name": "python3"
  },
  "language_info": {
   "codemirror_mode": {
    "name": "ipython",
    "version": 3
   },
   "file_extension": ".py",
   "mimetype": "text/x-python",
   "name": "python",
   "nbconvert_exporter": "python",
   "pygments_lexer": "ipython3",
   "version": "3.11.7"
  }
 },
 "nbformat": 4,
 "nbformat_minor": 5
}
