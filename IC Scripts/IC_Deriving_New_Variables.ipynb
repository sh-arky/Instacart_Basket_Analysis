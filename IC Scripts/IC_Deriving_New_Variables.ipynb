{
 "cells": [
  {
   "cell_type": "markdown",
   "id": "c65451f4-082c-4453-bb1e-bbbb7d23cee3",
   "metadata": {},
   "source": [
    "# Deriving New Variables"
   ]
  },
  {
   "cell_type": "markdown",
   "id": "c04bcc7a-81be-4c2c-a7f5-c1bb5d37d171",
   "metadata": {},
   "source": [
    "# exercise work -->>>"
   ]
  },
  {
   "cell_type": "code",
   "execution_count": 106,
   "id": "01dcbcd0-ef8b-4364-b9a1-6aa2e89f0158",
   "metadata": {},
   "outputs": [],
   "source": [
    "# importing libraries\n",
    "import pandas as pd\n",
    "import numpy as np\n",
    "import os"
   ]
  },
  {
   "cell_type": "code",
   "execution_count": 107,
   "id": "e5d74628-a2a5-417f-8c1a-d1856c6acdc8",
   "metadata": {},
   "outputs": [],
   "source": [
    "path = r\"C:\\Users\\Noah\\4.3.24_INSTACART BASKET ANALYSIS\""
   ]
  },
  {
   "cell_type": "code",
   "execution_count": 108,
   "id": "57bb41dd-51f2-4554-8bf7-611799827b60",
   "metadata": {},
   "outputs": [],
   "source": [
    "#importing the data from pickle\n",
    "ords_prods_merge = pd.read_pickle(os.path.join(path, '02 Data' , 'Prepared Data', 'ords_prods_merge.pkl'))"
   ]
  },
  {
   "cell_type": "code",
   "execution_count": 109,
   "id": "ff29e276-02f8-45c9-9aac-f71ddddc5ca1",
   "metadata": {},
   "outputs": [],
   "source": [
    "#limiting the large dataframe\n",
    "df = ords_prods_merge[:1000000]"
   ]
  },
  {
   "cell_type": "code",
   "execution_count": 110,
   "id": "c724e33c-edc3-4882-b223-4e4d97ff1251",
   "metadata": {},
   "outputs": [],
   "source": [
    "#defining the new variables - low,mid,high\n",
    "def price_label(row):\n",
    "\n",
    "  if row['prices'] <= 5:\n",
    "    return 'Low-range product'\n",
    "  elif (row['prices'] > 5) and (row['prices'] <= 15):\n",
    "    return 'Mid-range product'\n",
    "  elif row['prices'] > 15:\n",
    "    return 'High range'\n",
    "  else: return 'Not enough data'"
   ]
  },
  {
   "cell_type": "code",
   "execution_count": 111,
   "id": "a5add153-f1ba-4bef-93c6-a3c199216a75",
   "metadata": {},
   "outputs": [
    {
     "name": "stderr",
     "output_type": "stream",
     "text": [
      "C:\\Users\\Noah\\AppData\\Local\\Temp\\ipykernel_20620\\4203361965.py:2: SettingWithCopyWarning: \n",
      "A value is trying to be set on a copy of a slice from a DataFrame.\n",
      "Try using .loc[row_indexer,col_indexer] = value instead\n",
      "\n",
      "See the caveats in the documentation: https://pandas.pydata.org/pandas-docs/stable/user_guide/indexing.html#returning-a-view-versus-a-copy\n",
      "  df['price_range'] = df.apply(price_label, axis=1)\n"
     ]
    }
   ],
   "source": [
    "# merging the new variable\n",
    "df['price_range'] = df.apply(price_label, axis=1)"
   ]
  },
  {
   "cell_type": "code",
   "execution_count": 112,
   "id": "89fc80fc-95ad-47bb-af30-aac7175dcae6",
   "metadata": {},
   "outputs": [
    {
     "data": {
      "text/plain": [
       "price_range\n",
       "Mid-range product    652638\n",
       "Low-range product    338018\n",
       "High range             9344\n",
       "Name: count, dtype: int64"
      ]
     },
     "execution_count": 112,
     "metadata": {},
     "output_type": "execute_result"
    }
   ],
   "source": [
    "#testing the new variable\n",
    "df['price_range'].value_counts(dropna = False)"
   ]
  },
  {
   "cell_type": "code",
   "execution_count": 113,
   "id": "9b01a594-636f-426a-b50d-0fcbb9d4acdf",
   "metadata": {},
   "outputs": [
    {
     "data": {
      "text/plain": [
       "24.5"
      ]
     },
     "execution_count": 113,
     "metadata": {},
     "output_type": "execute_result"
    }
   ],
   "source": [
    "df['prices'].max()\n"
   ]
  },
  {
   "cell_type": "code",
   "execution_count": 114,
   "id": "633ae993-5193-430d-a7c2-ba6fcf00ba18",
   "metadata": {},
   "outputs": [
    {
     "name": "stderr",
     "output_type": "stream",
     "text": [
      "C:\\Users\\Noah\\AppData\\Local\\Temp\\ipykernel_20620\\1169838859.py:1: SettingWithCopyWarning: \n",
      "A value is trying to be set on a copy of a slice from a DataFrame.\n",
      "Try using .loc[row_indexer,col_indexer] = value instead\n",
      "\n",
      "See the caveats in the documentation: https://pandas.pydata.org/pandas-docs/stable/user_guide/indexing.html#returning-a-view-versus-a-copy\n",
      "  df.loc[df['prices'] > 15, 'price_range_loc'] = 'High-range product'\n"
     ]
    }
   ],
   "source": [
    "df.loc[df['prices'] > 15, 'price_range_loc'] = 'High-range product'"
   ]
  },
  {
   "cell_type": "markdown",
   "id": "48c17ccb-a335-42ef-b580-e68b8d6de8ae",
   "metadata": {},
   "source": [
    "using .loc method to create price_range variable"
   ]
  },
  {
   "cell_type": "code",
   "execution_count": 115,
   "id": "e43661b8-8d21-46f5-9c9a-06f9b44ab033",
   "metadata": {},
   "outputs": [],
   "source": [
    "df.loc[(df['prices'] <= 15) & (df['prices'] > 5), 'price_range_loc'] = 'Mid-range product'"
   ]
  },
  {
   "cell_type": "code",
   "execution_count": 116,
   "id": "7f712887-c4d0-496f-b5dc-f769239c22ee",
   "metadata": {},
   "outputs": [],
   "source": [
    "df.loc[df['prices'] <= 5, 'price_range_loc'] = 'Low-range product'"
   ]
  },
  {
   "cell_type": "code",
   "execution_count": 117,
   "id": "2d9895a6-fce7-4902-91d6-e2108841ca93",
   "metadata": {},
   "outputs": [],
   "source": [
    "ords_prods_merge.loc[ords_prods_merge['prices'] > 15, 'price_range_loc'] = 'High-range product'"
   ]
  },
  {
   "cell_type": "code",
   "execution_count": 118,
   "id": "cb2938a4-f92b-4359-b5db-cc26850052b8",
   "metadata": {},
   "outputs": [],
   "source": [
    "ords_prods_merge.loc[(ords_prods_merge['prices'] <= 15) & (ords_prods_merge['prices'] > 5), 'price_range_loc'] = 'Mid-range product'"
   ]
  },
  {
   "cell_type": "code",
   "execution_count": 119,
   "id": "f865fd56-166c-4415-87cc-fa13810734cb",
   "metadata": {},
   "outputs": [],
   "source": [
    "ords_prods_merge.loc[ords_prods_merge['prices'] <= 5, 'price_range_loc'] = 'Low-range product'"
   ]
  },
  {
   "cell_type": "code",
   "execution_count": 120,
   "id": "39a6e84b-a3a7-422f-b4e0-d9ae06c10206",
   "metadata": {},
   "outputs": [
    {
     "data": {
      "text/plain": [
       "price_range_loc\n",
       "Mid-range product     21860860\n",
       "Low-range product     10126321\n",
       "High-range product      412551\n",
       "Name: count, dtype: int64"
      ]
     },
     "execution_count": 120,
     "metadata": {},
     "output_type": "execute_result"
    }
   ],
   "source": [
    "ords_prods_merge['price_range_loc'].value_counts(dropna = False)"
   ]
  },
  {
   "cell_type": "markdown",
   "id": "24b2af52-44f0-4d75-907f-29e976f76e6d",
   "metadata": {},
   "source": [
    "# busiest days and slowest days"
   ]
  },
  {
   "cell_type": "code",
   "execution_count": 121,
   "id": "6a1f5acd-d1a8-4183-8c5e-6c34cfb1b265",
   "metadata": {},
   "outputs": [
    {
     "data": {
      "text/plain": [
       "orders_day_of_the_week\n",
       "0    6203329\n",
       "1    5659298\n",
       "6    4495887\n",
       "2    4213105\n",
       "5    4205076\n",
       "3    3839865\n",
       "4    3783172\n",
       "Name: count, dtype: int64"
      ]
     },
     "execution_count": 121,
     "metadata": {},
     "output_type": "execute_result"
    }
   ],
   "source": [
    "ords_prods_merge['orders_day_of_the_week'].value_counts(dropna = False)"
   ]
  },
  {
   "cell_type": "code",
   "execution_count": 122,
   "id": "33cb0d1d-bf87-4103-a673-169b33983ec6",
   "metadata": {},
   "outputs": [],
   "source": [
    "# creating an empty list for finding busiest days of the week\n",
    "result = []\n",
    "\n",
    "for value in ords_prods_merge[\"orders_day_of_the_week\"]:\n",
    "  if value == 0:\n",
    "    result.append(\"Busiest day\")\n",
    "  elif value == 4:\n",
    "    result.append(\"Least busy\")\n",
    "  else:\n",
    "    result.append(\"Regularly busy\")"
   ]
  },
  {
   "cell_type": "code",
   "execution_count": 123,
   "id": "844d6fd8-b7a8-43ef-8cd8-deee85bfc6f8",
   "metadata": {},
   "outputs": [],
   "source": [
    "ords_prods_merge['busiest_day'] = result"
   ]
  },
  {
   "cell_type": "code",
   "execution_count": 124,
   "id": "e6e792d6-0240-4452-ab4f-fc036907fdb9",
   "metadata": {},
   "outputs": [
    {
     "data": {
      "text/plain": [
       "busiest_day\n",
       "Regularly busy    22413231\n",
       "Busiest day        6203329\n",
       "Least busy         3783172\n",
       "Name: count, dtype: int64"
      ]
     },
     "execution_count": 124,
     "metadata": {},
     "output_type": "execute_result"
    }
   ],
   "source": [
    "ords_prods_merge['busiest_day'].value_counts(dropna = False)"
   ]
  },
  {
   "cell_type": "markdown",
   "id": "b3383260-a573-40f8-8133-a6344a74fc51",
   "metadata": {},
   "source": []
  },
  {
   "cell_type": "markdown",
   "id": "5b8bf172-b9e7-4146-bf27-7dadb2ba69cd",
   "metadata": {},
   "source": [
    "# 4.7 task work ->>>"
   ]
  },
  {
   "cell_type": "code",
   "execution_count": 129,
   "id": "92410a20-1f62-4f72-87f1-3f79270ad066",
   "metadata": {},
   "outputs": [],
   "source": [
    "#2. Busiest day becomes busiest days plural.\n",
    "# busiest days are 0 and 1,\n",
    "result_plural = []\n",
    "for value in ords_prods_merge[\"orders_day_of_the_week\"]:\n",
    "  if value == 0 or value == 1:\n",
    "    result_plural.append(\"Busiest day\")\n",
    "      # slowest days plural = 3 & 4\n",
    "  elif value == 3 or value == 4:\n",
    "    result_plural.append(\"Least busy\")\n",
    "  else:\n",
    "    result_plural.append(\"Regularly busy\")"
   ]
  },
  {
   "cell_type": "code",
   "execution_count": 130,
   "id": "0bab76b5-dab0-4af4-8940-3f3fa3d7000e",
   "metadata": {},
   "outputs": [],
   "source": [
    "# creating new variable\n",
    "ords_prods_merge['busiest_day'] = result_plural"
   ]
  },
  {
   "cell_type": "code",
   "execution_count": 131,
   "id": "335d96f1-28ef-44c4-868b-60c795be8be5",
   "metadata": {},
   "outputs": [
    {
     "data": {
      "text/plain": [
       "busiest_day\n",
       "Regularly busy    12914068\n",
       "Busiest day       11862627\n",
       "Least busy         7623037\n",
       "Name: count, dtype: int64"
      ]
     },
     "execution_count": 131,
     "metadata": {},
     "output_type": "execute_result"
    }
   ],
   "source": [
    "#displaying new variable\n",
    "ords_prods_merge['busiest_day'].value_counts(dropna = False)"
   ]
  },
  {
   "cell_type": "code",
   "execution_count": 132,
   "id": "781736e4-6b0a-48f9-8aba-02f2cf5d482b",
   "metadata": {},
   "outputs": [
    {
     "data": {
      "text/plain": [
       "(11862627, 7623037)"
      ]
     },
     "execution_count": 132,
     "metadata": {},
     "output_type": "execute_result"
    }
   ],
   "source": [
    "#testing results\n",
    "6203329 +5659298 , 3839865 + 3783172"
   ]
  },
  {
   "cell_type": "markdown",
   "id": "5c5d5825-650a-4ca0-8688-44892300e8fd",
   "metadata": {},
   "source": [
    "3. results are consistent, busiest and slowest days added together match new variable counts"
   ]
  },
  {
   "cell_type": "markdown",
   "id": "2608ed22-7e03-474d-8ee8-cb635b6a2f93",
   "metadata": {},
   "source": [
    "4. creating new column called busiest_period_of_day"
   ]
  },
  {
   "cell_type": "code",
   "execution_count": 133,
   "id": "ce8e957e-2edc-4131-aa83-8d5be6598216",
   "metadata": {},
   "outputs": [
    {
     "data": {
      "text/html": [
       "<div>\n",
       "<style scoped>\n",
       "    .dataframe tbody tr th:only-of-type {\n",
       "        vertical-align: middle;\n",
       "    }\n",
       "\n",
       "    .dataframe tbody tr th {\n",
       "        vertical-align: top;\n",
       "    }\n",
       "\n",
       "    .dataframe thead th {\n",
       "        text-align: right;\n",
       "    }\n",
       "</style>\n",
       "<table border=\"1\" class=\"dataframe\">\n",
       "  <thead>\n",
       "    <tr style=\"text-align: right;\">\n",
       "      <th></th>\n",
       "      <th>product_id</th>\n",
       "      <th>product_name</th>\n",
       "      <th>aisle_id</th>\n",
       "      <th>department_id</th>\n",
       "      <th>prices</th>\n",
       "      <th>order_id</th>\n",
       "      <th>user_id</th>\n",
       "      <th>eval_set</th>\n",
       "      <th>order_number</th>\n",
       "      <th>orders_day_of_the_week</th>\n",
       "      <th>order_hour_of_day</th>\n",
       "      <th>days_since_prior_order</th>\n",
       "      <th>add_to_cart_order</th>\n",
       "      <th>reordered</th>\n",
       "      <th>_merge</th>\n",
       "      <th>price_range_loc</th>\n",
       "      <th>busiest_day</th>\n",
       "    </tr>\n",
       "  </thead>\n",
       "  <tbody>\n",
       "    <tr>\n",
       "      <th>0</th>\n",
       "      <td>1</td>\n",
       "      <td>Chocolate Sandwich Cookies</td>\n",
       "      <td>61</td>\n",
       "      <td>19</td>\n",
       "      <td>5.8</td>\n",
       "      <td>3139998</td>\n",
       "      <td>138</td>\n",
       "      <td>prior</td>\n",
       "      <td>28</td>\n",
       "      <td>6</td>\n",
       "      <td>11</td>\n",
       "      <td>3.0</td>\n",
       "      <td>5</td>\n",
       "      <td>0</td>\n",
       "      <td>both</td>\n",
       "      <td>Mid-range product</td>\n",
       "      <td>Regularly busy</td>\n",
       "    </tr>\n",
       "    <tr>\n",
       "      <th>1</th>\n",
       "      <td>1</td>\n",
       "      <td>Chocolate Sandwich Cookies</td>\n",
       "      <td>61</td>\n",
       "      <td>19</td>\n",
       "      <td>5.8</td>\n",
       "      <td>1977647</td>\n",
       "      <td>138</td>\n",
       "      <td>prior</td>\n",
       "      <td>30</td>\n",
       "      <td>6</td>\n",
       "      <td>17</td>\n",
       "      <td>20.0</td>\n",
       "      <td>1</td>\n",
       "      <td>1</td>\n",
       "      <td>both</td>\n",
       "      <td>Mid-range product</td>\n",
       "      <td>Regularly busy</td>\n",
       "    </tr>\n",
       "    <tr>\n",
       "      <th>2</th>\n",
       "      <td>1</td>\n",
       "      <td>Chocolate Sandwich Cookies</td>\n",
       "      <td>61</td>\n",
       "      <td>19</td>\n",
       "      <td>5.8</td>\n",
       "      <td>389851</td>\n",
       "      <td>709</td>\n",
       "      <td>prior</td>\n",
       "      <td>2</td>\n",
       "      <td>0</td>\n",
       "      <td>21</td>\n",
       "      <td>6.0</td>\n",
       "      <td>20</td>\n",
       "      <td>0</td>\n",
       "      <td>both</td>\n",
       "      <td>Mid-range product</td>\n",
       "      <td>Busiest day</td>\n",
       "    </tr>\n",
       "    <tr>\n",
       "      <th>3</th>\n",
       "      <td>1</td>\n",
       "      <td>Chocolate Sandwich Cookies</td>\n",
       "      <td>61</td>\n",
       "      <td>19</td>\n",
       "      <td>5.8</td>\n",
       "      <td>652770</td>\n",
       "      <td>764</td>\n",
       "      <td>prior</td>\n",
       "      <td>1</td>\n",
       "      <td>3</td>\n",
       "      <td>13</td>\n",
       "      <td>NaN</td>\n",
       "      <td>10</td>\n",
       "      <td>0</td>\n",
       "      <td>both</td>\n",
       "      <td>Mid-range product</td>\n",
       "      <td>Least busy</td>\n",
       "    </tr>\n",
       "    <tr>\n",
       "      <th>4</th>\n",
       "      <td>1</td>\n",
       "      <td>Chocolate Sandwich Cookies</td>\n",
       "      <td>61</td>\n",
       "      <td>19</td>\n",
       "      <td>5.8</td>\n",
       "      <td>1813452</td>\n",
       "      <td>764</td>\n",
       "      <td>prior</td>\n",
       "      <td>3</td>\n",
       "      <td>4</td>\n",
       "      <td>17</td>\n",
       "      <td>9.0</td>\n",
       "      <td>11</td>\n",
       "      <td>1</td>\n",
       "      <td>both</td>\n",
       "      <td>Mid-range product</td>\n",
       "      <td>Least busy</td>\n",
       "    </tr>\n",
       "  </tbody>\n",
       "</table>\n",
       "</div>"
      ],
      "text/plain": [
       "   product_id                product_name  aisle_id  department_id  prices  \\\n",
       "0           1  Chocolate Sandwich Cookies        61             19     5.8   \n",
       "1           1  Chocolate Sandwich Cookies        61             19     5.8   \n",
       "2           1  Chocolate Sandwich Cookies        61             19     5.8   \n",
       "3           1  Chocolate Sandwich Cookies        61             19     5.8   \n",
       "4           1  Chocolate Sandwich Cookies        61             19     5.8   \n",
       "\n",
       "   order_id  user_id eval_set  order_number  orders_day_of_the_week  \\\n",
       "0   3139998      138    prior            28                       6   \n",
       "1   1977647      138    prior            30                       6   \n",
       "2    389851      709    prior             2                       0   \n",
       "3    652770      764    prior             1                       3   \n",
       "4   1813452      764    prior             3                       4   \n",
       "\n",
       "   order_hour_of_day  days_since_prior_order  add_to_cart_order  reordered  \\\n",
       "0                 11                     3.0                  5          0   \n",
       "1                 17                    20.0                  1          1   \n",
       "2                 21                     6.0                 20          0   \n",
       "3                 13                     NaN                 10          0   \n",
       "4                 17                     9.0                 11          1   \n",
       "\n",
       "  _merge    price_range_loc     busiest_day  \n",
       "0   both  Mid-range product  Regularly busy  \n",
       "1   both  Mid-range product  Regularly busy  \n",
       "2   both  Mid-range product     Busiest day  \n",
       "3   both  Mid-range product      Least busy  \n",
       "4   both  Mid-range product      Least busy  "
      ]
     },
     "execution_count": 133,
     "metadata": {},
     "output_type": "execute_result"
    }
   ],
   "source": [
    "ords_prods_merge.head()"
   ]
  },
  {
   "cell_type": "code",
   "execution_count": 134,
   "id": "780d2923-5a0a-440a-9773-8d4038a7a94a",
   "metadata": {},
   "outputs": [
    {
     "data": {
      "text/plain": [
       "order_hour_of_day\n",
       "10    2761333\n",
       "11    2735694\n",
       "14    2688728\n",
       "15    2661718\n",
       "13    2660570\n",
       "12    2618104\n",
       "16    2534744\n",
       "9     2453842\n",
       "17    2087273\n",
       "8     1717863\n",
       "18    1636226\n",
       "19    1258076\n",
       "20     976000\n",
       "7      890923\n",
       "21     795528\n",
       "22     634159\n",
       "23     402272\n",
       "6      290450\n",
       "0      218742\n",
       "1      115683\n",
       "5       87944\n",
       "2       69360\n",
       "4       53232\n",
       "3       51268\n",
       "Name: count, dtype: int64"
      ]
     },
     "execution_count": 134,
     "metadata": {},
     "output_type": "execute_result"
    }
   ],
   "source": [
    "# finding busiest period of the day\n",
    "ords_prods_merge['order_hour_of_day'].value_counts(dropna = False)"
   ]
  },
  {
   "cell_type": "markdown",
   "id": "36cdf828-07bf-4d69-8cdc-f3d28d8a79d1",
   "metadata": {},
   "source": [
    "4. busiest hours - 10,11,14,15,13 = most orders\n",
    "   slowest hours - 1,5,2,4,3 = least orders\n",
    "   everything else = average orders"
   ]
  },
  {
   "cell_type": "code",
   "execution_count": 135,
   "id": "7e1d112a-2fd6-4f69-9918-8a82ecfbcb5d",
   "metadata": {},
   "outputs": [],
   "source": [
    "#creating new variable\n",
    "result_hours = []\n",
    "for value in ords_prods_merge[\"order_hour_of_day\"]:\n",
    "  if value == 10 or value == 11 or value == 14 or value == 15 or value == 13:\n",
    "    result_hours.append(\"Most Orders\")\n",
    "  elif value == 1 or value == 5 or value == 2 or value == 4 or value == 3:\n",
    "    result_hours.append(\"Least Orders\")\n",
    "  else:\n",
    "    result_hours.append(\"Average Orders\")"
   ]
  },
  {
   "cell_type": "code",
   "execution_count": 136,
   "id": "eefca8d6-d9ca-4f54-be34-02b5cd952b51",
   "metadata": {},
   "outputs": [],
   "source": [
    "ords_prods_merge['busiest_period_of_day'] = result_hours"
   ]
  },
  {
   "cell_type": "code",
   "execution_count": 137,
   "id": "58ef35dd-cf63-41eb-9ce9-e8567249590d",
   "metadata": {},
   "outputs": [
    {
     "data": {
      "text/plain": [
       "busiest_period_of_day\n",
       "Average Orders    18514202\n",
       "Most Orders       13508043\n",
       "Least Orders        377487\n",
       "Name: count, dtype: int64"
      ]
     },
     "execution_count": 137,
     "metadata": {},
     "output_type": "execute_result"
    }
   ],
   "source": [
    "#5 . printing frequncy of new column\n",
    "ords_prods_merge['busiest_period_of_day'].value_counts(dropna = False)"
   ]
  },
  {
   "cell_type": "code",
   "execution_count": 140,
   "id": "15308f36-443e-48ff-8adb-0a0697849d7a",
   "metadata": {},
   "outputs": [
    {
     "data": {
      "text/plain": [
       "13508043"
      ]
     },
     "execution_count": 140,
     "metadata": {},
     "output_type": "execute_result"
    }
   ],
   "source": [
    "#testing results, most orders = 10+11+14+15+13\n",
    "2761333 + 2735694 + 2688728 + 2661718 +  2660570\n"
   ]
  },
  {
   "cell_type": "code",
   "execution_count": 141,
   "id": "ed944634-b7f3-4573-821c-baf139cc2b25",
   "metadata": {},
   "outputs": [
    {
     "data": {
      "text/plain": [
       "377487"
      ]
     },
     "execution_count": 141,
     "metadata": {},
     "output_type": "execute_result"
    }
   ],
   "source": [
    "#testing least orders = 1,5,2,4,3\n",
    "115683+ 87944 + 69360 + 53232 + 51268"
   ]
  },
  {
   "cell_type": "code",
   "execution_count": 142,
   "id": "c35c83b7-8fbe-415f-afb6-d16147457402",
   "metadata": {},
   "outputs": [],
   "source": [
    "#exporting as pickle\n",
    "ords_prods_merge.to_pickle(os.path.join(path, '02 Data','Prepared Data', '4.7_orders_products_newvar.pkl'))"
   ]
  },
  {
   "cell_type": "code",
   "execution_count": null,
   "id": "1d74077a-6b24-4d76-8981-38bbbf6a88b7",
   "metadata": {},
   "outputs": [],
   "source": []
  }
 ],
 "metadata": {
  "kernelspec": {
   "display_name": "Python 3 (ipykernel)",
   "language": "python",
   "name": "python3"
  },
  "language_info": {
   "codemirror_mode": {
    "name": "ipython",
    "version": 3
   },
   "file_extension": ".py",
   "mimetype": "text/x-python",
   "name": "python",
   "nbconvert_exporter": "python",
   "pygments_lexer": "ipython3",
   "version": "3.11.7"
  }
 },
 "nbformat": 4,
 "nbformat_minor": 5
}
